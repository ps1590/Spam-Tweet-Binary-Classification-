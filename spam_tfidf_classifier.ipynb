{
 "cells": [
  {
   "cell_type": "code",
   "execution_count": 1,
   "metadata": {},
   "outputs": [],
   "source": [
    "import pandas as pd\n",
    "import numpy as np"
   ]
  },
  {
   "cell_type": "code",
   "execution_count": 2,
   "metadata": {},
   "outputs": [],
   "source": [
    "path = r\"C:\\Users\\psiit\\Downloads\\SPAM text message20170820.csv\""
   ]
  },
  {
   "cell_type": "code",
   "execution_count": 3,
   "metadata": {},
   "outputs": [
    {
     "data": {
      "text/html": [
       "<div>\n",
       "<style scoped>\n",
       "    .dataframe tbody tr th:only-of-type {\n",
       "        vertical-align: middle;\n",
       "    }\n",
       "\n",
       "    .dataframe tbody tr th {\n",
       "        vertical-align: top;\n",
       "    }\n",
       "\n",
       "    .dataframe thead th {\n",
       "        text-align: right;\n",
       "    }\n",
       "</style>\n",
       "<table border=\"1\" class=\"dataframe\">\n",
       "  <thead>\n",
       "    <tr style=\"text-align: right;\">\n",
       "      <th></th>\n",
       "      <th>Category</th>\n",
       "      <th>Message</th>\n",
       "    </tr>\n",
       "  </thead>\n",
       "  <tbody>\n",
       "    <tr>\n",
       "      <th>0</th>\n",
       "      <td>ham</td>\n",
       "      <td>Go until jurong point, crazy.. Available only ...</td>\n",
       "    </tr>\n",
       "    <tr>\n",
       "      <th>1</th>\n",
       "      <td>ham</td>\n",
       "      <td>Ok lar... Joking wif u oni...</td>\n",
       "    </tr>\n",
       "    <tr>\n",
       "      <th>2</th>\n",
       "      <td>spam</td>\n",
       "      <td>Free entry in 2 a wkly comp to win FA Cup fina...</td>\n",
       "    </tr>\n",
       "    <tr>\n",
       "      <th>3</th>\n",
       "      <td>ham</td>\n",
       "      <td>U dun say so early hor... U c already then say...</td>\n",
       "    </tr>\n",
       "    <tr>\n",
       "      <th>4</th>\n",
       "      <td>ham</td>\n",
       "      <td>Nah I don't think he goes to usf, he lives aro...</td>\n",
       "    </tr>\n",
       "  </tbody>\n",
       "</table>\n",
       "</div>"
      ],
      "text/plain": [
       "  Category                                            Message\n",
       "0      ham  Go until jurong point, crazy.. Available only ...\n",
       "1      ham                      Ok lar... Joking wif u oni...\n",
       "2     spam  Free entry in 2 a wkly comp to win FA Cup fina...\n",
       "3      ham  U dun say so early hor... U c already then say...\n",
       "4      ham  Nah I don't think he goes to usf, he lives aro..."
      ]
     },
     "execution_count": 3,
     "metadata": {},
     "output_type": "execute_result"
    }
   ],
   "source": [
    "df = pd.read_csv(path)\n",
    "df.head()"
   ]
  },
  {
   "cell_type": "code",
   "execution_count": 4,
   "metadata": {},
   "outputs": [
    {
     "data": {
      "text/html": [
       "<div>\n",
       "<style scoped>\n",
       "    .dataframe tbody tr th:only-of-type {\n",
       "        vertical-align: middle;\n",
       "    }\n",
       "\n",
       "    .dataframe tbody tr th {\n",
       "        vertical-align: top;\n",
       "    }\n",
       "\n",
       "    .dataframe thead th {\n",
       "        text-align: right;\n",
       "    }\n",
       "</style>\n",
       "<table border=\"1\" class=\"dataframe\">\n",
       "  <thead>\n",
       "    <tr style=\"text-align: right;\">\n",
       "      <th></th>\n",
       "      <th>Category</th>\n",
       "      <th>Message</th>\n",
       "    </tr>\n",
       "  </thead>\n",
       "  <tbody>\n",
       "    <tr>\n",
       "      <th>0</th>\n",
       "      <td>0</td>\n",
       "      <td>Go until jurong point, crazy.. Available only ...</td>\n",
       "    </tr>\n",
       "    <tr>\n",
       "      <th>1</th>\n",
       "      <td>0</td>\n",
       "      <td>Ok lar... Joking wif u oni...</td>\n",
       "    </tr>\n",
       "    <tr>\n",
       "      <th>2</th>\n",
       "      <td>1</td>\n",
       "      <td>Free entry in 2 a wkly comp to win FA Cup fina...</td>\n",
       "    </tr>\n",
       "    <tr>\n",
       "      <th>3</th>\n",
       "      <td>0</td>\n",
       "      <td>U dun say so early hor... U c already then say...</td>\n",
       "    </tr>\n",
       "    <tr>\n",
       "      <th>4</th>\n",
       "      <td>0</td>\n",
       "      <td>Nah I don't think he goes to usf, he lives aro...</td>\n",
       "    </tr>\n",
       "  </tbody>\n",
       "</table>\n",
       "</div>"
      ],
      "text/plain": [
       "   Category                                            Message\n",
       "0         0  Go until jurong point, crazy.. Available only ...\n",
       "1         0                      Ok lar... Joking wif u oni...\n",
       "2         1  Free entry in 2 a wkly comp to win FA Cup fina...\n",
       "3         0  U dun say so early hor... U c already then say...\n",
       "4         0  Nah I don't think he goes to usf, he lives aro..."
      ]
     },
     "execution_count": 4,
     "metadata": {},
     "output_type": "execute_result"
    }
   ],
   "source": [
    "df['Category'] = df['Category'].replace({'ham':0, 'spam':1})\n",
    "df.head()"
   ]
  },
  {
   "cell_type": "code",
   "execution_count": 5,
   "metadata": {},
   "outputs": [
    {
     "data": {
      "text/plain": [
       "(5572, 2)"
      ]
     },
     "execution_count": 5,
     "metadata": {},
     "output_type": "execute_result"
    }
   ],
   "source": [
    "df.shape"
   ]
  },
  {
   "cell_type": "code",
   "execution_count": 6,
   "metadata": {},
   "outputs": [],
   "source": [
    "from sklearn.model_selection import train_test_split"
   ]
  },
  {
   "cell_type": "code",
   "execution_count": 7,
   "metadata": {},
   "outputs": [],
   "source": [
    "df_train, df_test = train_test_split(df, test_size=0.25)"
   ]
  },
  {
   "cell_type": "code",
   "execution_count": 8,
   "metadata": {},
   "outputs": [
    {
     "data": {
      "text/plain": [
       "((4179, 2), (1393, 2))"
      ]
     },
     "execution_count": 8,
     "metadata": {},
     "output_type": "execute_result"
    }
   ],
   "source": [
    "df_train.shape, df_test.shape"
   ]
  },
  {
   "cell_type": "code",
   "execution_count": 9,
   "metadata": {},
   "outputs": [],
   "source": [
    "corpus = list(df_train['Message'].values)"
   ]
  },
  {
   "cell_type": "code",
   "execution_count": 10,
   "metadata": {},
   "outputs": [],
   "source": [
    "from sklearn.feature_extraction.text import TfidfVectorizer"
   ]
  },
  {
   "cell_type": "code",
   "execution_count": 23,
   "metadata": {},
   "outputs": [],
   "source": [
    "tfidf = TfidfVectorizer(max_features=3000).fit(corpus)"
   ]
  },
  {
   "cell_type": "code",
   "execution_count": 24,
   "metadata": {},
   "outputs": [],
   "source": [
    "train_x = tfidf.transform(list(df_train['Message'].values)).toarray()\n",
    "test_x = tfidf.transform(list(df_test['Message'].values)).toarray()\n",
    "train_y = list(df_train['Category'] * 1)\n",
    "test_y = list(df_test['Category']*1)"
   ]
  },
  {
   "cell_type": "code",
   "execution_count": 25,
   "metadata": {},
   "outputs": [],
   "source": [
    "x_train = np.asarray(train_x).astype(np.float32)\n",
    "x_test = np.asarray(test_x).astype(np.float32)\n",
    "y_train = np.asarray(train_y).astype(np.float32)\n",
    "y_test = np.asarray(test_y).astype(np.float32)"
   ]
  },
  {
   "cell_type": "code",
   "execution_count": 26,
   "metadata": {},
   "outputs": [
    {
     "name": "stdout",
     "output_type": "stream",
     "text": [
      "1.13.1\n"
     ]
    }
   ],
   "source": [
    "import os\n",
    "import re\n",
    "import joblib\n",
    "import numpy as np\n",
    "import pandas as pd\n",
    "import random as rn\n",
    "from sklearn.preprocessing import LabelEncoder\n",
    "from sklearn.model_selection import train_test_split\n",
    "\n",
    "# from clean_text import *\n",
    "\n",
    "import matplotlib.pyplot as plt\n",
    "get_ipython().run_line_magic('matplotlib', 'inline')\n",
    "\n",
    "\n",
    "import tensorflow as tf\n",
    "from tensorflow.keras import optimizers\n",
    "from sklearn.metrics import confusion_matrix, classification_report, accuracy_score, precision_score, recall_score, f1_score\n",
    "from tensorflow.keras.models import Model\n",
    "from tensorflow.keras.utils import to_categorical\n",
    "from tensorflow.keras.callbacks import EarlyStopping\n",
    "from tensorflow.keras.preprocessing.text import Tokenizer\n",
    "from tensorflow.keras.preprocessing.sequence import pad_sequences\n",
    "from tensorflow.keras.layers import Input, Embedding, Activation, Flatten, Dense\n",
    "from tensorflow.keras.layers import Conv1D, MaxPooling1D, Dropout, GlobalAveragePooling1D, add, multiply, concatenate\n",
    "print(tf.__version__)\n",
    "\n",
    "import joblib\n",
    "import ast\n",
    "\n",
    "from sklearn.feature_extraction.text import TfidfVectorizer"
   ]
  },
  {
   "cell_type": "code",
   "execution_count": 27,
   "metadata": {},
   "outputs": [],
   "source": [
    "nodes = 400\n",
    "x_input = Input(shape = (x_train.shape[1],))\n",
    "x = Dense(nodes, activation='relu')(x_input)\n",
    "x = Dense(nodes, activation='relu')(x)\n",
    "out = Dense(1, activation='sigmoid')(x)\n",
    "model = Model(inputs = x_input, outputs=out)"
   ]
  },
  {
   "cell_type": "code",
   "execution_count": 28,
   "metadata": {},
   "outputs": [
    {
     "name": "stdout",
     "output_type": "stream",
     "text": [
      "_________________________________________________________________\n",
      "Layer (type)                 Output Shape              Param #   \n",
      "=================================================================\n",
      "input_2 (InputLayer)         (None, 3000)              0         \n",
      "_________________________________________________________________\n",
      "dense_3 (Dense)              (None, 400)               1200400   \n",
      "_________________________________________________________________\n",
      "dense_4 (Dense)              (None, 400)               160400    \n",
      "_________________________________________________________________\n",
      "dense_5 (Dense)              (None, 1)                 401       \n",
      "=================================================================\n",
      "Total params: 1,361,201\n",
      "Trainable params: 1,361,201\n",
      "Non-trainable params: 0\n",
      "_________________________________________________________________\n"
     ]
    }
   ],
   "source": [
    "model.summary()"
   ]
  },
  {
   "cell_type": "code",
   "execution_count": 29,
   "metadata": {},
   "outputs": [],
   "source": [
    "opt = tf.compat.v1.train.AdamOptimizer(learning_rate = 0.00001)\n",
    "\n",
    "cb = tf.keras.callbacks.EarlyStopping(\n",
    "    monitor=\"val_loss\",\n",
    "    mode=\"auto\",\n",
    "    patience=5,\n",
    "    restore_best_weights=True \n",
    ")"
   ]
  },
  {
   "cell_type": "code",
   "execution_count": 30,
   "metadata": {},
   "outputs": [
    {
     "name": "stdout",
     "output_type": "stream",
     "text": [
      "Train on 4179 samples, validate on 1393 samples\n",
      "Epoch 1/2000\n",
      "4179/4179 [==============================] - 1s 284us/sample - loss: 0.6894 - acc: 0.7933 - val_loss: 0.6817 - val_acc: 0.8693\n",
      "Epoch 2/2000\n",
      "4179/4179 [==============================] - 1s 235us/sample - loss: 0.6846 - acc: 0.8634 - val_loss: 0.6730 - val_acc: 0.8729\n",
      "Epoch 3/2000\n",
      "4179/4179 [==============================] - 1s 273us/sample - loss: 0.6796 - acc: 0.8636 - val_loss: 0.6644 - val_acc: 0.8729\n",
      "Epoch 4/2000\n",
      "4179/4179 [==============================] - 1s 287us/sample - loss: 0.6748 - acc: 0.8636 - val_loss: 0.6553 - val_acc: 0.8729\n",
      "Epoch 5/2000\n",
      "4179/4179 [==============================] - 1s 263us/sample - loss: 0.6694 - acc: 0.8636 - val_loss: 0.6460 - val_acc: 0.8729\n",
      "Epoch 6/2000\n",
      "4179/4179 [==============================] - 1s 229us/sample - loss: 0.6638 - acc: 0.8636 - val_loss: 0.6360 - val_acc: 0.8729\n",
      "Epoch 7/2000\n",
      "4179/4179 [==============================] - 1s 228us/sample - loss: 0.6579 - acc: 0.8636 - val_loss: 0.6252 - val_acc: 0.8729\n",
      "Epoch 8/2000\n",
      "4179/4179 [==============================] - 1s 243us/sample - loss: 0.6515 - acc: 0.8636 - val_loss: 0.6140 - val_acc: 0.8729\n",
      "Epoch 9/2000\n",
      "4179/4179 [==============================] - 1s 256us/sample - loss: 0.6442 - acc: 0.8636 - val_loss: 0.6021 - val_acc: 0.8729\n",
      "Epoch 10/2000\n",
      "4179/4179 [==============================] - 1s 227us/sample - loss: 0.6368 - acc: 0.8636 - val_loss: 0.5888 - val_acc: 0.8729\n",
      "Epoch 11/2000\n",
      "4179/4179 [==============================] - 1s 235us/sample - loss: 0.6286 - acc: 0.8636 - val_loss: 0.5755 - val_acc: 0.8729\n",
      "Epoch 12/2000\n",
      "4179/4179 [==============================] - 1s 249us/sample - loss: 0.6201 - acc: 0.8636 - val_loss: 0.5613 - val_acc: 0.8729\n",
      "Epoch 13/2000\n",
      "4179/4179 [==============================] - 1s 232us/sample - loss: 0.6106 - acc: 0.8636 - val_loss: 0.5471 - val_acc: 0.8729\n",
      "Epoch 14/2000\n",
      "4179/4179 [==============================] - 1s 251us/sample - loss: 0.6012 - acc: 0.8636 - val_loss: 0.5318 - val_acc: 0.8729\n",
      "Epoch 15/2000\n",
      "4179/4179 [==============================] - 1s 245us/sample - loss: 0.5914 - acc: 0.8636 - val_loss: 0.5163 - val_acc: 0.8729\n",
      "Epoch 16/2000\n",
      "4179/4179 [==============================] - 1s 248us/sample - loss: 0.5808 - acc: 0.8636 - val_loss: 0.5006 - val_acc: 0.8729\n",
      "Epoch 17/2000\n",
      "4179/4179 [==============================] - 1s 238us/sample - loss: 0.5702 - acc: 0.8636 - val_loss: 0.4851 - val_acc: 0.8729\n",
      "Epoch 18/2000\n",
      "4179/4179 [==============================] - 1s 237us/sample - loss: 0.5586 - acc: 0.8636 - val_loss: 0.4693 - val_acc: 0.8729\n",
      "Epoch 19/2000\n",
      "4179/4179 [==============================] - 1s 263us/sample - loss: 0.5471 - acc: 0.8636 - val_loss: 0.4540 - val_acc: 0.8729: 0.5461 - acc: 0.865\n",
      "Epoch 20/2000\n",
      "4179/4179 [==============================] - 1s 243us/sample - loss: 0.5354 - acc: 0.8636 - val_loss: 0.4390 - val_acc: 0.8729\n",
      "Epoch 21/2000\n",
      "4179/4179 [==============================] - 1s 246us/sample - loss: 0.5239 - acc: 0.8636 - val_loss: 0.4239 - val_acc: 0.8729\n",
      "Epoch 22/2000\n",
      "4179/4179 [==============================] - 1s 233us/sample - loss: 0.5106 - acc: 0.8636 - val_loss: 0.4085 - val_acc: 0.8729\n",
      "Epoch 23/2000\n",
      "4179/4179 [==============================] - 1s 241us/sample - loss: 0.4984 - acc: 0.8636 - val_loss: 0.3941 - val_acc: 0.8737\n",
      "Epoch 24/2000\n",
      "4179/4179 [==============================] - 1s 249us/sample - loss: 0.4842 - acc: 0.8638 - val_loss: 0.3797 - val_acc: 0.8751\n",
      "Epoch 25/2000\n",
      "4179/4179 [==============================] - 1s 230us/sample - loss: 0.4714 - acc: 0.8677 - val_loss: 0.3661 - val_acc: 0.8772\n",
      "Epoch 26/2000\n",
      "4179/4179 [==============================] - 1s 281us/sample - loss: 0.4578 - acc: 0.8729 - val_loss: 0.3525 - val_acc: 0.8801\n",
      "Epoch 27/2000\n",
      "4179/4179 [==============================] - 1s 270us/sample - loss: 0.4427 - acc: 0.8825 - val_loss: 0.3391 - val_acc: 0.8880\n",
      "Epoch 28/2000\n",
      "4179/4179 [==============================] - 1s 247us/sample - loss: 0.4289 - acc: 0.8981 - val_loss: 0.3262 - val_acc: 0.8995\n",
      "Epoch 29/2000\n",
      "4179/4179 [==============================] - 1s 238us/sample - loss: 0.4146 - acc: 0.9067 - val_loss: 0.3136 - val_acc: 0.9146\n",
      "Epoch 30/2000\n",
      "4179/4179 [==============================] - 1s 237us/sample - loss: 0.3993 - acc: 0.9201 - val_loss: 0.3009 - val_acc: 0.9282\n",
      "Epoch 31/2000\n",
      "4179/4179 [==============================] - 1s 244us/sample - loss: 0.3847 - acc: 0.9344 - val_loss: 0.2893 - val_acc: 0.9368\n",
      "Epoch 32/2000\n",
      "4179/4179 [==============================] - 1s 237us/sample - loss: 0.3698 - acc: 0.9454 - val_loss: 0.2778 - val_acc: 0.9433\n",
      "Epoch 33/2000\n",
      "4179/4179 [==============================] - 1s 234us/sample - loss: 0.3555 - acc: 0.9517 - val_loss: 0.2663 - val_acc: 0.9483\n",
      "Epoch 34/2000\n",
      "4179/4179 [==============================] - 1s 225us/sample - loss: 0.3412 - acc: 0.9574 - val_loss: 0.2554 - val_acc: 0.9505\n",
      "Epoch 35/2000\n",
      "4179/4179 [==============================] - 1s 239us/sample - loss: 0.3273 - acc: 0.9629 - val_loss: 0.2449 - val_acc: 0.9562\n",
      "Epoch 36/2000\n",
      "4179/4179 [==============================] - 1s 244us/sample - loss: 0.3131 - acc: 0.9672 - val_loss: 0.2348 - val_acc: 0.9591\n",
      "Epoch 37/2000\n",
      "4179/4179 [==============================] - 1s 239us/sample - loss: 0.2999 - acc: 0.9706 - val_loss: 0.2252 - val_acc: 0.9641\n",
      "Epoch 38/2000\n",
      "4179/4179 [==============================] - 1s 239us/sample - loss: 0.2871 - acc: 0.9739 - val_loss: 0.2157 - val_acc: 0.9663\n",
      "Epoch 39/2000\n",
      "4179/4179 [==============================] - 1s 245us/sample - loss: 0.2752 - acc: 0.9770 - val_loss: 0.2070 - val_acc: 0.9698\n",
      "Epoch 40/2000\n",
      "4179/4179 [==============================] - 1s 270us/sample - loss: 0.2622 - acc: 0.9799 - val_loss: 0.1984 - val_acc: 0.9720\n",
      "Epoch 41/2000\n",
      "4179/4179 [==============================] - 1s 236us/sample - loss: 0.2509 - acc: 0.9818 - val_loss: 0.1903 - val_acc: 0.9742\n",
      "Epoch 42/2000\n",
      "4179/4179 [==============================] - 1s 244us/sample - loss: 0.2397 - acc: 0.9830 - val_loss: 0.1828 - val_acc: 0.9756\n",
      "Epoch 43/2000\n",
      "4179/4179 [==============================] - ETA: 0s - loss: 0.2292 - acc: 0.984 - 1s 244us/sample - loss: 0.2287 - acc: 0.9840 - val_loss: 0.1756 - val_acc: 0.9763\n",
      "Epoch 44/2000\n",
      "4179/4179 [==============================] - 1s 290us/sample - loss: 0.2176 - acc: 0.9849 - val_loss: 0.1688 - val_acc: 0.9770\n",
      "Epoch 45/2000\n",
      "4179/4179 [==============================] - 1s 246us/sample - loss: 0.2087 - acc: 0.9864 - val_loss: 0.1621 - val_acc: 0.9777\n",
      "Epoch 46/2000\n",
      "4179/4179 [==============================] - ETA: 0s - loss: 0.1989 - acc: 0.986 - 1s 246us/sample - loss: 0.1992 - acc: 0.9873 - val_loss: 0.1558 - val_acc: 0.9792\n",
      "Epoch 47/2000\n",
      "4179/4179 [==============================] - 1s 261us/sample - loss: 0.1895 - acc: 0.9885 - val_loss: 0.1501 - val_acc: 0.9785\n",
      "Epoch 48/2000\n",
      "4179/4179 [==============================] - 1s 250us/sample - loss: 0.1817 - acc: 0.9885 - val_loss: 0.1447 - val_acc: 0.9792\n",
      "Epoch 49/2000\n",
      "4179/4179 [==============================] - 1s 231us/sample - loss: 0.1736 - acc: 0.9890 - val_loss: 0.1395 - val_acc: 0.9792\n",
      "Epoch 50/2000\n",
      "4179/4179 [==============================] - 1s 237us/sample - loss: 0.1656 - acc: 0.9892 - val_loss: 0.1347 - val_acc: 0.9799\n",
      "Epoch 51/2000\n",
      "4179/4179 [==============================] - 1s 279us/sample - loss: 0.1590 - acc: 0.9892 - val_loss: 0.1300 - val_acc: 0.9799\n",
      "Epoch 52/2000\n",
      "4179/4179 [==============================] - 1s 267us/sample - loss: 0.1522 - acc: 0.9895 - val_loss: 0.1258 - val_acc: 0.9799\n",
      "Epoch 53/2000\n",
      "4179/4179 [==============================] - 1s 295us/sample - loss: 0.1455 - acc: 0.9895 - val_loss: 0.1217 - val_acc: 0.9813\n",
      "Epoch 54/2000\n",
      "4179/4179 [==============================] - 1s 285us/sample - loss: 0.1394 - acc: 0.9902 - val_loss: 0.1180 - val_acc: 0.9813\n",
      "Epoch 55/2000\n",
      "4179/4179 [==============================] - 1s 264us/sample - loss: 0.1334 - acc: 0.9902 - val_loss: 0.1145 - val_acc: 0.9813\n",
      "Epoch 56/2000\n",
      "4179/4179 [==============================] - 1s 272us/sample - loss: 0.1279 - acc: 0.9909 - val_loss: 0.1110 - val_acc: 0.9828\n",
      "Epoch 57/2000\n",
      "4179/4179 [==============================] - 1s 275us/sample - loss: 0.1228 - acc: 0.9919 - val_loss: 0.1079 - val_acc: 0.9828\n",
      "Epoch 58/2000\n",
      "4179/4179 [==============================] - 1s 273us/sample - loss: 0.1172 - acc: 0.9926 - val_loss: 0.1045 - val_acc: 0.9828\n",
      "Epoch 59/2000\n",
      "4179/4179 [==============================] - 1s 267us/sample - loss: 0.1132 - acc: 0.9923 - val_loss: 0.1019 - val_acc: 0.9835\n",
      "Epoch 60/2000\n",
      "4179/4179 [==============================] - 1s 266us/sample - loss: 0.1089 - acc: 0.9923 - val_loss: 0.0994 - val_acc: 0.9835\n",
      "Epoch 61/2000\n",
      "4179/4179 [==============================] - 1s 309us/sample - loss: 0.1049 - acc: 0.9923 - val_loss: 0.0967 - val_acc: 0.9835\n",
      "Epoch 62/2000\n",
      "4179/4179 [==============================] - 1s 265us/sample - loss: 0.1008 - acc: 0.9923 - val_loss: 0.0944 - val_acc: 0.9835\n",
      "Epoch 63/2000\n",
      "4179/4179 [==============================] - 1s 275us/sample - loss: 0.0967 - acc: 0.9921 - val_loss: 0.0919 - val_acc: 0.9842\n",
      "Epoch 64/2000\n",
      "4179/4179 [==============================] - 1s 261us/sample - loss: 0.0937 - acc: 0.9921 - val_loss: 0.0899 - val_acc: 0.9842\n",
      "Epoch 65/2000\n",
      "4179/4179 [==============================] - 1s 279us/sample - loss: 0.0901 - acc: 0.9923 - val_loss: 0.0879 - val_acc: 0.9842\n",
      "Epoch 66/2000\n",
      "4179/4179 [==============================] - 1s 268us/sample - loss: 0.0868 - acc: 0.9928 - val_loss: 0.0861 - val_acc: 0.9842\n",
      "Epoch 67/2000\n",
      "4179/4179 [==============================] - 1s 290us/sample - loss: 0.0839 - acc: 0.9928 - val_loss: 0.0842 - val_acc: 0.9835\n",
      "Epoch 68/2000\n",
      "4179/4179 [==============================] - 1s 273us/sample - loss: 0.0816 - acc: 0.9928 - val_loss: 0.0825 - val_acc: 0.9835\n",
      "Epoch 69/2000\n",
      "4179/4179 [==============================] - 1s 239us/sample - loss: 0.0784 - acc: 0.9928 - val_loss: 0.0808 - val_acc: 0.9842\n",
      "Epoch 70/2000\n",
      "4179/4179 [==============================] - 1s 235us/sample - loss: 0.0759 - acc: 0.9931 - val_loss: 0.0794 - val_acc: 0.9849\n",
      "Epoch 71/2000\n",
      "4179/4179 [==============================] - 1s 244us/sample - loss: 0.0734 - acc: 0.9933 - val_loss: 0.0779 - val_acc: 0.9849\n",
      "Epoch 72/2000\n",
      "4179/4179 [==============================] - 1s 239us/sample - loss: 0.0708 - acc: 0.9933 - val_loss: 0.0765 - val_acc: 0.9849\n",
      "Epoch 73/2000\n",
      "4179/4179 [==============================] - 1s 241us/sample - loss: 0.0688 - acc: 0.9933 - val_loss: 0.0753 - val_acc: 0.9849\n",
      "Epoch 74/2000\n",
      "4179/4179 [==============================] - 1s 240us/sample - loss: 0.0666 - acc: 0.9931 - val_loss: 0.0741 - val_acc: 0.9849\n",
      "Epoch 75/2000\n",
      "4179/4179 [==============================] - 1s 238us/sample - loss: 0.0647 - acc: 0.9933 - val_loss: 0.0729 - val_acc: 0.9849\n",
      "Epoch 76/2000\n",
      "4179/4179 [==============================] - 1s 248us/sample - loss: 0.0627 - acc: 0.9933 - val_loss: 0.0716 - val_acc: 0.9849\n",
      "Epoch 77/2000\n",
      "4179/4179 [==============================] - 1s 257us/sample - loss: 0.0613 - acc: 0.9933 - val_loss: 0.0707 - val_acc: 0.9849\n",
      "Epoch 78/2000\n",
      "4179/4179 [==============================] - 1s 243us/sample - loss: 0.0592 - acc: 0.9933 - val_loss: 0.0697 - val_acc: 0.9849\n",
      "Epoch 79/2000\n",
      "4179/4179 [==============================] - 1s 236us/sample - loss: 0.0577 - acc: 0.9933 - val_loss: 0.0687 - val_acc: 0.9849\n",
      "Epoch 80/2000\n",
      "4179/4179 [==============================] - 1s 239us/sample - loss: 0.0561 - acc: 0.9935 - val_loss: 0.0678 - val_acc: 0.9849\n",
      "Epoch 81/2000\n",
      "4179/4179 [==============================] - 1s 241us/sample - loss: 0.0543 - acc: 0.9935 - val_loss: 0.0669 - val_acc: 0.9849\n",
      "Epoch 82/2000\n",
      "4179/4179 [==============================] - 1s 248us/sample - loss: 0.0529 - acc: 0.9935 - val_loss: 0.0661 - val_acc: 0.9849\n",
      "Epoch 83/2000\n",
      "4179/4179 [==============================] - 1s 241us/sample - loss: 0.0514 - acc: 0.9935 - val_loss: 0.0653 - val_acc: 0.9842\n",
      "Epoch 84/2000\n",
      "4179/4179 [==============================] - 1s 243us/sample - loss: 0.0501 - acc: 0.9938 - val_loss: 0.0646 - val_acc: 0.9842\n",
      "Epoch 85/2000\n",
      "4179/4179 [==============================] - 1s 240us/sample - loss: 0.0489 - acc: 0.9940 - val_loss: 0.0638 - val_acc: 0.9849\n",
      "Epoch 86/2000\n",
      "4179/4179 [==============================] - 1s 235us/sample - loss: 0.0475 - acc: 0.9943 - val_loss: 0.0632 - val_acc: 0.9849\n",
      "Epoch 87/2000\n",
      "4179/4179 [==============================] - 1s 236us/sample - loss: 0.0463 - acc: 0.9945 - val_loss: 0.0624 - val_acc: 0.9849\n",
      "Epoch 88/2000\n",
      "4179/4179 [==============================] - ETA: 0s - loss: 0.0454 - acc: 0.995 - 1s 238us/sample - loss: 0.0450 - acc: 0.9950 - val_loss: 0.0617 - val_acc: 0.9849\n",
      "Epoch 89/2000\n",
      "4179/4179 [==============================] - 1s 240us/sample - loss: 0.0438 - acc: 0.9950 - val_loss: 0.0611 - val_acc: 0.9849\n",
      "Epoch 90/2000\n",
      "4179/4179 [==============================] - 1s 239us/sample - loss: 0.0428 - acc: 0.9950 - val_loss: 0.0606 - val_acc: 0.9864\n",
      "Epoch 91/2000\n",
      "4179/4179 [==============================] - 1s 239us/sample - loss: 0.0417 - acc: 0.9950 - val_loss: 0.0601 - val_acc: 0.9864\n",
      "Epoch 92/2000\n",
      "4179/4179 [==============================] - 1s 269us/sample - loss: 0.0406 - acc: 0.9952 - val_loss: 0.0596 - val_acc: 0.9864\n",
      "Epoch 93/2000\n",
      "4179/4179 [==============================] - 1s 242us/sample - loss: 0.0399 - acc: 0.9952 - val_loss: 0.0590 - val_acc: 0.9864\n",
      "Epoch 94/2000\n",
      "4179/4179 [==============================] - 1s 239us/sample - loss: 0.0391 - acc: 0.9952 - val_loss: 0.0585 - val_acc: 0.9864\n",
      "Epoch 95/2000\n",
      "4179/4179 [==============================] - 1s 246us/sample - loss: 0.0381 - acc: 0.9952 - val_loss: 0.0580 - val_acc: 0.9864\n",
      "Epoch 96/2000\n",
      "4179/4179 [==============================] - 1s 236us/sample - loss: 0.0370 - acc: 0.9952 - val_loss: 0.0576 - val_acc: 0.9864\n",
      "Epoch 97/2000\n",
      "4179/4179 [==============================] - 1s 231us/sample - loss: 0.0361 - acc: 0.9952 - val_loss: 0.0572 - val_acc: 0.9864\n",
      "Epoch 98/2000\n",
      "4179/4179 [==============================] - 1s 232us/sample - loss: 0.0351 - acc: 0.9952 - val_loss: 0.0567 - val_acc: 0.9871\n",
      "Epoch 99/2000\n",
      "4179/4179 [==============================] - 1s 235us/sample - loss: 0.0343 - acc: 0.9957 - val_loss: 0.0563 - val_acc: 0.9871\n",
      "Epoch 100/2000\n",
      "4179/4179 [==============================] - 1s 242us/sample - loss: 0.0337 - acc: 0.9957 - val_loss: 0.0560 - val_acc: 0.9871\n",
      "Epoch 101/2000\n",
      "4179/4179 [==============================] - 1s 237us/sample - loss: 0.0330 - acc: 0.9957 - val_loss: 0.0556 - val_acc: 0.9871\n",
      "Epoch 102/2000\n",
      "4179/4179 [==============================] - 1s 235us/sample - loss: 0.0321 - acc: 0.9957 - val_loss: 0.0552 - val_acc: 0.9871\n",
      "Epoch 103/2000\n",
      "4179/4179 [==============================] - 1s 265us/sample - loss: 0.0312 - acc: 0.9957 - val_loss: 0.0548 - val_acc: 0.9871\n",
      "Epoch 104/2000\n",
      "4179/4179 [==============================] - 1s 235us/sample - loss: 0.0308 - acc: 0.9959 - val_loss: 0.0545 - val_acc: 0.9871\n",
      "Epoch 105/2000\n",
      "4179/4179 [==============================] - 1s 241us/sample - loss: 0.0302 - acc: 0.9959 - val_loss: 0.0542 - val_acc: 0.9871\n",
      "Epoch 106/2000\n",
      "4179/4179 [==============================] - 1s 242us/sample - loss: 0.0293 - acc: 0.9959 - val_loss: 0.0539 - val_acc: 0.9871\n",
      "Epoch 107/2000\n",
      "4179/4179 [==============================] - 1s 259us/sample - loss: 0.0288 - acc: 0.9959 - val_loss: 0.0536 - val_acc: 0.9871\n",
      "Epoch 108/2000\n",
      "4179/4179 [==============================] - 1s 246us/sample - loss: 0.0283 - acc: 0.9959 - val_loss: 0.0534 - val_acc: 0.9871\n",
      "Epoch 109/2000\n",
      "4179/4179 [==============================] - 1s 236us/sample - loss: 0.0276 - acc: 0.9959 - val_loss: 0.0530 - val_acc: 0.9871\n",
      "Epoch 110/2000\n",
      "4179/4179 [==============================] - 1s 226us/sample - loss: 0.0270 - acc: 0.9962 - val_loss: 0.0529 - val_acc: 0.9871\n",
      "Epoch 111/2000\n",
      "4179/4179 [==============================] - 1s 243us/sample - loss: 0.0264 - acc: 0.9962 - val_loss: 0.0526 - val_acc: 0.9871\n",
      "Epoch 112/2000\n",
      "4179/4179 [==============================] - 1s 246us/sample - loss: 0.0258 - acc: 0.9964 - val_loss: 0.0524 - val_acc: 0.9871\n",
      "Epoch 113/2000\n",
      "4179/4179 [==============================] - 1s 237us/sample - loss: 0.0253 - acc: 0.9964 - val_loss: 0.0522 - val_acc: 0.9871\n",
      "Epoch 114/2000\n",
      "4179/4179 [==============================] - 1s 246us/sample - loss: 0.0245 - acc: 0.9966 - val_loss: 0.0519 - val_acc: 0.9871\n",
      "Epoch 115/2000\n",
      "4179/4179 [==============================] - 1s 228us/sample - loss: 0.0243 - acc: 0.9969 - val_loss: 0.0517 - val_acc: 0.9871\n",
      "Epoch 116/2000\n",
      "4179/4179 [==============================] - 1s 234us/sample - loss: 0.0237 - acc: 0.9969 - val_loss: 0.0515 - val_acc: 0.9871\n",
      "Epoch 117/2000\n",
      "4179/4179 [==============================] - 1s 243us/sample - loss: 0.0232 - acc: 0.9969 - val_loss: 0.0513 - val_acc: 0.9871\n",
      "Epoch 118/2000\n",
      "4179/4179 [==============================] - 1s 248us/sample - loss: 0.0226 - acc: 0.9969 - val_loss: 0.0511 - val_acc: 0.9871\n",
      "Epoch 119/2000\n",
      "4179/4179 [==============================] - 1s 238us/sample - loss: 0.0222 - acc: 0.9969 - val_loss: 0.0509 - val_acc: 0.9878\n",
      "Epoch 120/2000\n",
      "4179/4179 [==============================] - 1s 276us/sample - loss: 0.0218 - acc: 0.9974 - val_loss: 0.0508 - val_acc: 0.9878\n",
      "Epoch 121/2000\n",
      "4179/4179 [==============================] - 1s 279us/sample - loss: 0.0215 - acc: 0.9974 - val_loss: 0.0506 - val_acc: 0.9878\n",
      "Epoch 122/2000\n",
      "4179/4179 [==============================] - 1s 289us/sample - loss: 0.0208 - acc: 0.9974 - val_loss: 0.0504 - val_acc: 0.9878\n",
      "Epoch 123/2000\n",
      "4179/4179 [==============================] - 1s 308us/sample - loss: 0.0205 - acc: 0.9974 - val_loss: 0.0503 - val_acc: 0.9878\n",
      "Epoch 124/2000\n",
      "4179/4179 [==============================] - ETA: 0s - loss: 0.0201 - acc: 0.997 - 1s 280us/sample - loss: 0.0200 - acc: 0.9974 - val_loss: 0.0501 - val_acc: 0.9878\n",
      "Epoch 125/2000\n",
      "4179/4179 [==============================] - 1s 274us/sample - loss: 0.0196 - acc: 0.9974 - val_loss: 0.0500 - val_acc: 0.9878\n",
      "Epoch 126/2000\n",
      "4179/4179 [==============================] - 1s 267us/sample - loss: 0.0193 - acc: 0.9976 - val_loss: 0.0499 - val_acc: 0.9878\n",
      "Epoch 127/2000\n",
      "4179/4179 [==============================] - 1s 295us/sample - loss: 0.0187 - acc: 0.9976 - val_loss: 0.0498 - val_acc: 0.9878\n",
      "Epoch 128/2000\n",
      "4179/4179 [==============================] - 1s 250us/sample - loss: 0.0182 - acc: 0.9976 - val_loss: 0.0496 - val_acc: 0.9878\n",
      "Epoch 129/2000\n",
      "4179/4179 [==============================] - 1s 251us/sample - loss: 0.0181 - acc: 0.9976 - val_loss: 0.0495 - val_acc: 0.9878\n",
      "Epoch 130/2000\n",
      "4179/4179 [==============================] - 1s 252us/sample - loss: 0.0177 - acc: 0.9976 - val_loss: 0.0494 - val_acc: 0.9871\n",
      "Epoch 131/2000\n",
      "4179/4179 [==============================] - 1s 264us/sample - loss: 0.0174 - acc: 0.9976 - val_loss: 0.0493 - val_acc: 0.9871\n",
      "Epoch 132/2000\n",
      "4179/4179 [==============================] - 1s 276us/sample - loss: 0.0170 - acc: 0.9976 - val_loss: 0.0492 - val_acc: 0.9871\n",
      "Epoch 133/2000\n",
      "4179/4179 [==============================] - 1s 243us/sample - loss: 0.0166 - acc: 0.9976 - val_loss: 0.0491 - val_acc: 0.9871\n",
      "Epoch 134/2000\n",
      "4179/4179 [==============================] - 1s 255us/sample - loss: 0.0164 - acc: 0.9976 - val_loss: 0.0491 - val_acc: 0.9871\n",
      "Epoch 135/2000\n",
      "4179/4179 [==============================] - 1s 252us/sample - loss: 0.0161 - acc: 0.9976 - val_loss: 0.0490 - val_acc: 0.9871\n",
      "Epoch 136/2000\n",
      "4179/4179 [==============================] - 1s 250us/sample - loss: 0.0157 - acc: 0.9976 - val_loss: 0.0489 - val_acc: 0.9871\n",
      "Epoch 137/2000\n",
      "4179/4179 [==============================] - 1s 242us/sample - loss: 0.0154 - acc: 0.9978 - val_loss: 0.0488 - val_acc: 0.9871\n",
      "Epoch 138/2000\n",
      "4179/4179 [==============================] - 1s 252us/sample - loss: 0.0152 - acc: 0.9978 - val_loss: 0.0488 - val_acc: 0.9871\n",
      "Epoch 139/2000\n",
      "4179/4179 [==============================] - 1s 245us/sample - loss: 0.0148 - acc: 0.9981 - val_loss: 0.0487 - val_acc: 0.9871\n",
      "Epoch 140/2000\n",
      "4179/4179 [==============================] - 1s 254us/sample - loss: 0.0144 - acc: 0.9981 - val_loss: 0.0487 - val_acc: 0.9871\n",
      "Epoch 141/2000\n",
      "4179/4179 [==============================] - 1s 274us/sample - loss: 0.0143 - acc: 0.9981 - val_loss: 0.0486 - val_acc: 0.9871\n",
      "Epoch 142/2000\n",
      "4179/4179 [==============================] - 1s 238us/sample - loss: 0.0140 - acc: 0.9981 - val_loss: 0.0486 - val_acc: 0.9871\n",
      "Epoch 143/2000\n",
      "4179/4179 [==============================] - 1s 246us/sample - loss: 0.0137 - acc: 0.9981 - val_loss: 0.0485 - val_acc: 0.9871\n",
      "Epoch 144/2000\n",
      "4179/4179 [==============================] - 1s 244us/sample - loss: 0.0133 - acc: 0.9981 - val_loss: 0.0485 - val_acc: 0.9871\n",
      "Epoch 145/2000\n",
      "4179/4179 [==============================] - 1s 244us/sample - loss: 0.0131 - acc: 0.9983 - val_loss: 0.0485 - val_acc: 0.9871\n",
      "Epoch 146/2000\n",
      "4179/4179 [==============================] - 1s 262us/sample - loss: 0.0129 - acc: 0.9983 - val_loss: 0.0484 - val_acc: 0.9885\n",
      "Epoch 147/2000\n",
      "4179/4179 [==============================] - 1s 238us/sample - loss: 0.0126 - acc: 0.9983 - val_loss: 0.0484 - val_acc: 0.9885\n",
      "Epoch 148/2000\n",
      "4179/4179 [==============================] - 1s 242us/sample - loss: 0.0124 - acc: 0.9983 - val_loss: 0.0484 - val_acc: 0.9885\n",
      "Epoch 149/2000\n",
      "4179/4179 [==============================] - 1s 231us/sample - loss: 0.0120 - acc: 0.9983 - val_loss: 0.0484 - val_acc: 0.9885\n",
      "Epoch 150/2000\n",
      "4179/4179 [==============================] - 1s 248us/sample - loss: 0.0118 - acc: 0.9983 - val_loss: 0.0483 - val_acc: 0.9885\n",
      "Epoch 151/2000\n",
      "4179/4179 [==============================] - 1s 241us/sample - loss: 0.0117 - acc: 0.9986 - val_loss: 0.0483 - val_acc: 0.9885\n",
      "Epoch 152/2000\n",
      "4179/4179 [==============================] - 1s 254us/sample - loss: 0.0115 - acc: 0.9986 - val_loss: 0.0483 - val_acc: 0.9892\n",
      "Epoch 153/2000\n",
      "4179/4179 [==============================] - 1s 279us/sample - loss: 0.0113 - acc: 0.9986 - val_loss: 0.0483 - val_acc: 0.9892\n",
      "Epoch 154/2000\n",
      "4179/4179 [==============================] - 1s 236us/sample - loss: 0.0110 - acc: 0.9986 - val_loss: 0.0483 - val_acc: 0.9892\n",
      "Epoch 155/2000\n",
      "4179/4179 [==============================] - 1s 234us/sample - loss: 0.0108 - acc: 0.9986 - val_loss: 0.0483 - val_acc: 0.9892\n",
      "Epoch 156/2000\n",
      "4179/4179 [==============================] - 1s 232us/sample - loss: 0.0106 - acc: 0.9986 - val_loss: 0.0483 - val_acc: 0.9892\n",
      "Epoch 157/2000\n",
      "4179/4179 [==============================] - 1s 242us/sample - loss: 0.0103 - acc: 0.9986 - val_loss: 0.0483 - val_acc: 0.98920s - loss: 0.0102 - acc: 0.9\n",
      "Epoch 158/2000\n",
      "4179/4179 [==============================] - 1s 252us/sample - loss: 0.0101 - acc: 0.9986 - val_loss: 0.0483 - val_acc: 0.9892\n"
     ]
    },
    {
     "data": {
      "text/plain": [
       "<tensorflow.python.keras.callbacks.History at 0x1d622b4a240>"
      ]
     },
     "execution_count": 30,
     "metadata": {},
     "output_type": "execute_result"
    }
   ],
   "source": [
    "model.compile(optimizer=opt, loss='binary_crossentropy', metrics = ['accuracy'])\n",
    "model.fit(x_train, y_train, validation_data=(x_test, y_test), epochs=2000, batch_size=128, class_weight={0:1, 1:3}, verbose=1, callbacks=[cb])"
   ]
  },
  {
   "cell_type": "code",
   "execution_count": 31,
   "metadata": {},
   "outputs": [
    {
     "data": {
      "image/png": "[encoded data removed]",
      "text/plain": [
       "<Figure size 432x288 with 1 Axes>"
      ]
     },
     "metadata": {
      "needs_background": "light"
     },
     "output_type": "display_data"
    }
   ],
   "source": [
    "import matplotlib.pyplot as plt\n",
    "%matplotlib inline\n",
    "train_loss=model.history.history[\"loss\"]\n",
    "test_loss =model.history.history[\"val_loss\"]\n",
    "\n",
    "plt.plot(train_loss, label='train')\n",
    "plt.plot(test_loss, label='test')\n",
    "plt.legend()\n",
    "plt.show()"
   ]
  },
  {
   "cell_type": "code",
   "execution_count": 32,
   "metadata": {},
   "outputs": [],
   "source": [
    "pred_prob = model.predict(x_test)\n",
    "pred = (pred_prob >= 0.5)*1"
   ]
  },
  {
   "cell_type": "code",
   "execution_count": 33,
   "metadata": {},
   "outputs": [
    {
     "name": "stdout",
     "output_type": "stream",
     "text": [
      "              precision    recall  f1-score   support\n",
      "\n",
      "           0       0.99      1.00      0.99      1216\n",
      "           1       0.99      0.93      0.96       177\n",
      "\n",
      "    accuracy                           0.99      1393\n",
      "   macro avg       0.99      0.96      0.98      1393\n",
      "weighted avg       0.99      0.99      0.99      1393\n",
      "\n"
     ]
    }
   ],
   "source": [
    "print(classification_report(test_y, pred))"
   ]
  },
  {
   "cell_type": "code",
   "execution_count": 34,
   "metadata": {},
   "outputs": [],
   "source": [
    "pred_prob_arr = []\n",
    "pred_prob_temp = model.predict(x_test)\n",
    "for i in np.arange(0.00, 1.00, 0.01):\n",
    "    pred_temp = (pred_prob_temp >= i) * 1\n",
    "    pred_prob_arr.append([i, precision_score(test_y, pred_temp), recall_score(test_y, pred_temp), f1_score(test_y, pred_temp)])\n",
    "\n",
    "df_perf = pd.DataFrame(pred_prob_arr, columns=[\"cut\",\"precision\", \"recall\", \"f1-score\"])"
   ]
  },
  {
   "cell_type": "code",
   "execution_count": 35,
   "metadata": {},
   "outputs": [
    {
     "data": {
      "image/png": "[encoded data removed]",
      "text/plain": [
       "<Figure size 432x288 with 1 Axes>"
      ]
     },
     "metadata": {
      "needs_background": "light"
     },
     "output_type": "display_data"
    }
   ],
   "source": [
    "import matplotlib.pyplot as plt\n",
    "%matplotlib inline\n",
    "precision=df_perf[\"precision\"].values\n",
    "recall =df_perf[\"recall\"].values\n",
    "f1_score =df_perf[\"f1-score\"].values\n",
    "\n",
    "plt.plot(precision, label='precision')\n",
    "plt.plot(recall, label='recall')\n",
    "plt.plot(f1_score, label='f1_score')\n",
    "plt.legend()\n",
    "plt.show()"
   ]
  }
 ],
 "metadata": {
  "interpreter": {
   "hash": "022d3e86aa3d9a405282e60c14828db9fa672b986320a7ad207b3bace4927f4a"
  },
  "kernelspec": {
   "display_name": "Python 3.7.3 ('base')",
   "language": "python",
   "name": "python3"
  },
  "language_info": {
   "codemirror_mode": {
    "name": "ipython",
    "version": 3
   },
   "file_extension": ".py",
   "mimetype": "text/x-python",
   "name": "python",
   "nbconvert_exporter": "python",
   "pygments_lexer": "ipython3",
   "version": "3.7.3"
  },
  "orig_nbformat": 4
 },
 "nbformat": 4,
 "nbformat_minor": 2
}
