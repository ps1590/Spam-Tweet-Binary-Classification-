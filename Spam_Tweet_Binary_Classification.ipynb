{
 "cells": [
  {
   "cell_type": "code",
   "execution_count": 1,
   "metadata": {
    "_cell_guid": "b1076dfc-b9ad-4769-8c92-a6c4dae69d19",
    "_uuid": "8f2839f25d086af736a60e9eeb907d3b93b6e0e5",
    "execution": {
     "iopub.execute_input": "2022-03-20T08:42:58.127350Z",
     "iopub.status.busy": "2022-03-20T08:42:58.127027Z",
     "iopub.status.idle": "2022-03-20T08:42:58.134382Z",
     "shell.execute_reply": "2022-03-20T08:42:58.133490Z",
     "shell.execute_reply.started": "2022-03-20T08:42:58.127316Z"
    }
   },
   "outputs": [],
   "source": [
    "# This Python 3 environment comes with many helpful analytics libraries installed\n",
    "# It is defined by the kaggle/python Docker image: https://github.com/kaggle/docker-python\n",
    "# For example, here's several helpful packages to load\n",
    "\n",
    "import numpy as np # linear algebra\n",
    "import pandas as pd # data processing, CSV file I/O (e.g. pd.read_csv)\n",
    "\n",
    "# Input data files are available in the read-only \"../input/\" directory\n",
    "# For example, running this (by clicking run or pressing Shift+Enter) will list all files under the input directory\n",
    "\n",
    "import os\n",
    "for dirname, _, filenames in os.walk('/kaggle/input'):\n",
    "    for filename in filenames:\n",
    "        print(os.path.join(dirname, filename))\n",
    "\n",
    "# You can write up to 20GB to the current directory (/kaggle/working/) that gets preserved as output when you create a version using \"Save & Run All\" \n",
    "# You can also write temporary files to /kaggle/temp/, but they won't be saved outside of the current session"
   ]
  },
  {
   "cell_type": "code",
   "execution_count": 2,
   "metadata": {
    "execution": {
     "iopub.execute_input": "2022-03-20T08:42:58.137288Z",
     "iopub.status.busy": "2022-03-20T08:42:58.136966Z",
     "iopub.status.idle": "2022-03-20T08:42:58.172476Z",
     "shell.execute_reply": "2022-03-20T08:42:58.171639Z",
     "shell.execute_reply.started": "2022-03-20T08:42:58.137254Z"
    }
   },
   "outputs": [
    {
     "data": {
      "text/html": [
       "<div>\n",
       "<style scoped>\n",
       "    .dataframe tbody tr th:only-of-type {\n",
       "        vertical-align: middle;\n",
       "    }\n",
       "\n",
       "    .dataframe tbody tr th {\n",
       "        vertical-align: top;\n",
       "    }\n",
       "\n",
       "    .dataframe thead th {\n",
       "        text-align: right;\n",
       "    }\n",
       "</style>\n",
       "<table border=\"1\" class=\"dataframe\">\n",
       "  <thead>\n",
       "    <tr style=\"text-align: right;\">\n",
       "      <th></th>\n",
       "      <th>Category</th>\n",
       "      <th>Message</th>\n",
       "    </tr>\n",
       "  </thead>\n",
       "  <tbody>\n",
       "    <tr>\n",
       "      <th>0</th>\n",
       "      <td>ham</td>\n",
       "      <td>Go until jurong point, crazy.. Available only ...</td>\n",
       "    </tr>\n",
       "    <tr>\n",
       "      <th>1</th>\n",
       "      <td>ham</td>\n",
       "      <td>Ok lar... Joking wif u oni...</td>\n",
       "    </tr>\n",
       "    <tr>\n",
       "      <th>2</th>\n",
       "      <td>spam</td>\n",
       "      <td>Free entry in 2 a wkly comp to win FA Cup fina...</td>\n",
       "    </tr>\n",
       "    <tr>\n",
       "      <th>3</th>\n",
       "      <td>ham</td>\n",
       "      <td>U dun say so early hor... U c already then say...</td>\n",
       "    </tr>\n",
       "    <tr>\n",
       "      <th>4</th>\n",
       "      <td>ham</td>\n",
       "      <td>Nah I don't think he goes to usf, he lives aro...</td>\n",
       "    </tr>\n",
       "  </tbody>\n",
       "</table>\n",
       "</div>"
      ],
      "text/plain": [
       "  Category                                            Message\n",
       "0      ham  Go until jurong point, crazy.. Available only ...\n",
       "1      ham                      Ok lar... Joking wif u oni...\n",
       "2     spam  Free entry in 2 a wkly comp to win FA Cup fina...\n",
       "3      ham  U dun say so early hor... U c already then say...\n",
       "4      ham  Nah I don't think he goes to usf, he lives aro..."
      ]
     },
     "execution_count": 2,
     "metadata": {},
     "output_type": "execute_result"
    }
   ],
   "source": [
    "df= pd.read_csv('SPAM text message 20170820 - Data.csv')\n",
    "df.head()"
   ]
  },
  {
   "cell_type": "code",
   "execution_count": 3,
   "metadata": {
    "execution": {
     "iopub.execute_input": "2022-03-20T08:42:58.175988Z",
     "iopub.status.busy": "2022-03-20T08:42:58.175700Z",
     "iopub.status.idle": "2022-03-20T08:42:58.184084Z",
     "shell.execute_reply": "2022-03-20T08:42:58.183386Z",
     "shell.execute_reply.started": "2022-03-20T08:42:58.175959Z"
    }
   },
   "outputs": [
    {
     "data": {
      "text/plain": [
       "0     ham\n",
       "1     ham\n",
       "2    spam\n",
       "3     ham\n",
       "4     ham\n",
       "Name: Category, dtype: object"
      ]
     },
     "execution_count": 3,
     "metadata": {},
     "output_type": "execute_result"
    }
   ],
   "source": [
    "y = df['Category']\n",
    "y.head()"
   ]
  },
  {
   "cell_type": "code",
   "execution_count": 4,
   "metadata": {
    "execution": {
     "iopub.execute_input": "2022-03-20T08:42:58.186062Z",
     "iopub.status.busy": "2022-03-20T08:42:58.185407Z",
     "iopub.status.idle": "2022-03-20T08:42:58.203571Z",
     "shell.execute_reply": "2022-03-20T08:42:58.202727Z",
     "shell.execute_reply.started": "2022-03-20T08:42:58.186024Z"
    }
   },
   "outputs": [
    {
     "data": {
      "text/plain": [
       "0    0\n",
       "1    0\n",
       "2    1\n",
       "3    0\n",
       "4    0\n",
       "Name: Category, dtype: int64"
      ]
     },
     "execution_count": 4,
     "metadata": {},
     "output_type": "execute_result"
    }
   ],
   "source": [
    "y = df['Category'].replace({'ham':0, 'spam':1})\n",
    "y.head()"
   ]
  },
  {
   "cell_type": "code",
   "execution_count": 5,
   "metadata": {
    "execution": {
     "iopub.execute_input": "2022-03-20T08:42:58.205426Z",
     "iopub.status.busy": "2022-03-20T08:42:58.205016Z",
     "iopub.status.idle": "2022-03-20T08:42:58.216540Z",
     "shell.execute_reply": "2022-03-20T08:42:58.215926Z",
     "shell.execute_reply.started": "2022-03-20T08:42:58.205392Z"
    }
   },
   "outputs": [
    {
     "data": {
      "text/plain": [
       "(5572,)"
      ]
     },
     "execution_count": 5,
     "metadata": {},
     "output_type": "execute_result"
    }
   ],
   "source": [
    "y.shape"
   ]
  },
  {
   "cell_type": "code",
   "execution_count": 6,
   "metadata": {
    "execution": {
     "iopub.execute_input": "2022-03-20T08:42:58.218537Z",
     "iopub.status.busy": "2022-03-20T08:42:58.218088Z",
     "iopub.status.idle": "2022-03-20T08:42:58.230694Z",
     "shell.execute_reply": "2022-03-20T08:42:58.229560Z",
     "shell.execute_reply.started": "2022-03-20T08:42:58.218503Z"
    }
   },
   "outputs": [
    {
     "data": {
      "text/plain": [
       "0    Go until jurong point, crazy.. Available only ...\n",
       "1                        Ok lar... Joking wif u oni...\n",
       "2    Free entry in 2 a wkly comp to win FA Cup fina...\n",
       "3    U dun say so early hor... U c already then say...\n",
       "4    Nah I don't think he goes to usf, he lives aro...\n",
       "Name: Message, dtype: object"
      ]
     },
     "execution_count": 6,
     "metadata": {},
     "output_type": "execute_result"
    }
   ],
   "source": [
    "X = df['Message']\n",
    "X.head()"
   ]
  },
  {
   "cell_type": "code",
   "execution_count": 7,
   "metadata": {
    "execution": {
     "iopub.execute_input": "2022-03-20T08:42:58.232494Z",
     "iopub.status.busy": "2022-03-20T08:42:58.232263Z",
     "iopub.status.idle": "2022-03-20T08:42:58.723256Z",
     "shell.execute_reply": "2022-03-20T08:42:58.722409Z",
     "shell.execute_reply.started": "2022-03-20T08:42:58.232466Z"
    }
   },
   "outputs": [],
   "source": [
    "from sklearn.model_selection import train_test_split"
   ]
  },
  {
   "cell_type": "code",
   "execution_count": 8,
   "metadata": {
    "execution": {
     "iopub.execute_input": "2022-03-20T08:42:58.724923Z",
     "iopub.status.busy": "2022-03-20T08:42:58.724677Z",
     "iopub.status.idle": "2022-03-20T08:42:58.733845Z",
     "shell.execute_reply": "2022-03-20T08:42:58.732959Z",
     "shell.execute_reply.started": "2022-03-20T08:42:58.724893Z"
    }
   },
   "outputs": [
    {
     "data": {
      "text/plain": [
       "((4346,), (1226,), (4346,), (1226,))"
      ]
     },
     "execution_count": 8,
     "metadata": {},
     "output_type": "execute_result"
    }
   ],
   "source": [
    "X_train, X_test, y_train, y_test = train_test_split(X, y, test_size = 0.22, random_state = 42)\n",
    "X_train.shape, X_test.shape, y_train.shape, y_test.shape"
   ]
  },
  {
   "cell_type": "code",
   "execution_count": 9,
   "metadata": {
    "execution": {
     "iopub.execute_input": "2022-03-20T08:42:58.736021Z",
     "iopub.status.busy": "2022-03-20T08:42:58.735481Z",
     "iopub.status.idle": "2022-03-20T08:42:58.941097Z",
     "shell.execute_reply": "2022-03-20T08:42:58.940421Z",
     "shell.execute_reply.started": "2022-03-20T08:42:58.735986Z"
    }
   },
   "outputs": [],
   "source": [
    "import re\n",
    "import string\n",
    "import numpy as np\n",
    "\n",
    "from nltk.corpus import stopwords\n",
    "from nltk.stem import PorterStemmer\n",
    "from nltk.tokenize import TweetTokenizer\n",
    "\n",
    "\n",
    "def process_tweet(tweet):\n",
    "    \"\"\"Process tweet function.\n",
    "    Input:\n",
    "        tweet: a string containing a tweet\n",
    "    Output:\n",
    "        tweets_clean: a list of words containing the processed tweet\n",
    "    \"\"\"\n",
    "    stemmer = PorterStemmer()\n",
    "    stopwords_english = stopwords.words('english')\n",
    "    # remove stock market tickers like $GE\n",
    "    tweet = re.sub(r'\\$\\w*', '', tweet)\n",
    "    # remove old style retweet text \"RT\"\n",
    "    tweet = re.sub(r'^RT[\\s]+', '', tweet)\n",
    "    # remove hyperlinks\n",
    "    tweet = re.sub(r'https?:\\/\\/.*[\\r\\n]*', '', tweet)\n",
    "    # remove hashtags\n",
    "    # only removing the hash # sign from the word\n",
    "    tweet = re.sub(r'#', '', tweet)\n",
    "    # tokenize tweets\n",
    "    tokenizer = TweetTokenizer(preserve_case=False, strip_handles=True,\n",
    "                               reduce_len=True)\n",
    "    tweet_tokens = tokenizer.tokenize(tweet)\n",
    "\n",
    "    tweets_clean = []\n",
    "    for word in tweet_tokens:\n",
    "        if (word not in stopwords_english and  # remove stopwords\n",
    "                word not in string.punctuation):  # remove punctuation\n",
    "            # tweets_clean.append(word)\n",
    "            stem_word = stemmer.stem(word)  # stemming word\n",
    "            tweets_clean.append(stem_word)\n",
    "\n",
    "    return tweets_clean\n",
    "\n",
    "\n",
    "def build_freqs(tweets, ys):\n",
    "    \"\"\"Build frequencies.\n",
    "    Input:\n",
    "        tweets: a list of tweets\n",
    "        ys: an m x 1 array with the sentiment label of each tweet\n",
    "            (either 0 or 1)\n",
    "    Output:\n",
    "        freqs: a dictionary mapping each (word, sentiment) pair to its\n",
    "        frequency\n",
    "    \"\"\"\n",
    "    # Convert np array to list since zip needs an iterable.\n",
    "    # The squeeze is necessary or the list ends up with one element.\n",
    "    # Also note that this is just a NOP if ys is already a list.\n",
    "    yslist = np.squeeze(ys).tolist()\n",
    "\n",
    "    # Start with an empty dictionary and populate it by looping over all tweets\n",
    "    # and over all processed words in each tweet.\n",
    "    freqs = {}\n",
    "    for y, tweet in zip(yslist, tweets):\n",
    "        for word in process_tweet(tweet):\n",
    "            pair = (word, y)\n",
    "            if pair in freqs:\n",
    "                freqs[pair] += 1\n",
    "            else:\n",
    "                freqs[pair] = 1\n",
    "\n",
    "    return freqs"
   ]
  },
  {
   "cell_type": "code",
   "execution_count": 10,
   "metadata": {
    "execution": {
     "iopub.execute_input": "2022-03-20T08:42:58.942501Z",
     "iopub.status.busy": "2022-03-20T08:42:58.942184Z",
     "iopub.status.idle": "2022-03-20T08:43:02.007908Z",
     "shell.execute_reply": "2022-03-20T08:43:02.007044Z",
     "shell.execute_reply.started": "2022-03-20T08:42:58.942473Z"
    }
   },
   "outputs": [
    {
     "name": "stdout",
     "output_type": "stream",
     "text": [
      "type(freqs) = <class 'dict'>\n",
      "len(freqs) = 7506\n"
     ]
    }
   ],
   "source": [
    "# create frequency dictionary\n",
    "freqs = build_freqs(X_train, y_train)\n",
    "\n",
    "# check the output\n",
    "print(\"type(freqs) = \" + str(type(freqs)))\n",
    "print(\"len(freqs) = \" + str(len(freqs.keys())))"
   ]
  },
  {
   "cell_type": "code",
   "execution_count": 11,
   "metadata": {
    "execution": {
     "iopub.execute_input": "2022-03-20T09:00:57.136984Z",
     "iopub.status.busy": "2022-03-20T09:00:57.136680Z",
     "iopub.status.idle": "2022-03-20T09:00:57.143331Z",
     "shell.execute_reply": "2022-03-20T09:00:57.142073Z",
     "shell.execute_reply.started": "2022-03-20T09:00:57.136953Z"
    }
   },
   "outputs": [],
   "source": [
    "def sigmoid(z): \n",
    "    '''\n",
    "    Input:\n",
    "        z: is the input (can be a scalar or an array)\n",
    "    Output:\n",
    "        h: the sigmoid of z\n",
    "    '''\n",
    "    \n",
    "    ### START CODE HERE (REPLACE INSTANCES OF 'None' with your code) ###\n",
    "    # calculate the sigmoid of z\n",
    "    h = 1 / (1 + np.exp(-z))\n",
    "    ### END CODE HERE ###\n",
    "    \n",
    "    return h"
   ]
  },
  {
   "cell_type": "code",
   "execution_count": 12,
   "metadata": {
    "execution": {
     "iopub.execute_input": "2022-03-20T09:04:22.755957Z",
     "iopub.status.busy": "2022-03-20T09:04:22.755650Z",
     "iopub.status.idle": "2022-03-20T09:04:22.766195Z",
     "shell.execute_reply": "2022-03-20T09:04:22.765267Z",
     "shell.execute_reply.started": "2022-03-20T09:04:22.755925Z"
    }
   },
   "outputs": [],
   "source": [
    "# UNQ_C2 GRADED FUNCTION: gradientDescent\n",
    "def gradientDescent(x, y, theta, alpha, num_iters):\n",
    "    '''\n",
    "    Input:\n",
    "        x: matrix of features which is (m,n+1)\n",
    "        y: corresponding labels of the input matrix x, dimensions (m,1)\n",
    "        theta: weight vector of dimension (n+1,1)\n",
    "        alpha: learning rate\n",
    "        num_iters: number of iterations you want to train your model for\n",
    "    Output:\n",
    "        J: the final cost\n",
    "        theta: your final weight vector\n",
    "    Hint: you might want to print the cost to make sure that it is going down.\n",
    "    '''\n",
    "    ### START CODE HERE ###\n",
    "    # get 'm', the number of rows in matrix x\n",
    "    m = x.shape[0]\n",
    "    \n",
    "    for i in range(0, num_iters):\n",
    "        \n",
    "        # get z, the dot product of x and theta\n",
    "        z = np.dot(x,theta)\n",
    "        \n",
    "        # get the sigmoid of z\n",
    "        h = sigmoid(z)\n",
    "        \n",
    "        # calculate the cost function\n",
    "        J = (-1/m)*(np.dot(y.T, np.log(h)) + np.dot((1 - y).T,np.log(1-h)))\n",
    "\n",
    "        # update the weights theta\n",
    "        theta = theta - (alpha/m)*np.dot(x.T, (h-y))\n",
    "        \n",
    "    ### END CODE HERE ###\n",
    "    J = float(J)\n",
    "    return J, theta"
   ]
  },
  {
   "cell_type": "code",
   "execution_count": 13,
   "metadata": {
    "execution": {
     "iopub.execute_input": "2022-03-20T08:45:05.063513Z",
     "iopub.status.busy": "2022-03-20T08:45:05.063197Z",
     "iopub.status.idle": "2022-03-20T08:45:05.071071Z",
     "shell.execute_reply": "2022-03-20T08:45:05.070067Z",
     "shell.execute_reply.started": "2022-03-20T08:45:05.063482Z"
    }
   },
   "outputs": [],
   "source": [
    "# UNQ_C3 (UNIQUE CELL IDENTIFIER, DO NOT EDIT)\n",
    "def extract_features(tweet, freqs):\n",
    "    '''\n",
    "    Input: \n",
    "        tweet: a list of words for one tweet\n",
    "        freqs: a dictionary corresponding to the frequencies of each tuple (word, label)\n",
    "    Output: \n",
    "        x: a feature vector of dimension (1,3)\n",
    "    '''\n",
    "    # process_tweet tokenizes, stems, and removes stopwords\n",
    "    word_l = process_tweet(tweet)\n",
    "    \n",
    "    # 3 elements in the form of a 1 x 3 vector\n",
    "    x = np.zeros((1, 3)) \n",
    "    \n",
    "    #bias term is set to 1\n",
    "    x[0,0] = 1 \n",
    "    \n",
    "    ### START CODE HERE (REPLACE INSTANCES OF 'None' with your code) ###\n",
    "    \n",
    "    # loop through each word in the list of words\n",
    "    for word in word_l:\n",
    "        \n",
    "        # increment the word count for the positive label 1\n",
    "        x[0,1] += freqs.get((word, 1.0),0)\n",
    "        \n",
    "        # increment the word count for the negative label 0\n",
    "        x[0,2] += freqs.get((word, 0.0),0)\n",
    "        \n",
    "    ### END CODE HERE ###\n",
    "    assert(x.shape == (1, 3))\n",
    "    return x"
   ]
  },
  {
   "cell_type": "code",
   "execution_count": 14,
   "metadata": {
    "execution": {
     "iopub.execute_input": "2022-03-20T08:58:36.065432Z",
     "iopub.status.busy": "2022-03-20T08:58:36.065083Z",
     "iopub.status.idle": "2022-03-20T08:58:36.070982Z",
     "shell.execute_reply": "2022-03-20T08:58:36.069748Z",
     "shell.execute_reply.started": "2022-03-20T08:58:36.065400Z"
    }
   },
   "outputs": [],
   "source": [
    "X_train.reset_index(inplace = True, drop = True)"
   ]
  },
  {
   "cell_type": "code",
   "execution_count": 15,
   "metadata": {
    "execution": {
     "iopub.execute_input": "2022-03-20T08:59:10.909106Z",
     "iopub.status.busy": "2022-03-20T08:59:10.908803Z",
     "iopub.status.idle": "2022-03-20T08:59:10.913513Z",
     "shell.execute_reply": "2022-03-20T08:59:10.912663Z",
     "shell.execute_reply.started": "2022-03-20T08:59:10.909073Z"
    }
   },
   "outputs": [],
   "source": [
    "y_train.reset_index(inplace = True, drop = True)"
   ]
  },
  {
   "cell_type": "code",
   "execution_count": 16,
   "metadata": {
    "execution": {
     "iopub.execute_input": "2022-03-20T08:59:16.967495Z",
     "iopub.status.busy": "2022-03-20T08:59:16.967025Z",
     "iopub.status.idle": "2022-03-20T08:59:16.976028Z",
     "shell.execute_reply": "2022-03-20T08:59:16.974863Z",
     "shell.execute_reply.started": "2022-03-20T08:59:16.967461Z"
    }
   },
   "outputs": [
    {
     "data": {
      "text/plain": [
       "0       0\n",
       "1       0\n",
       "2       1\n",
       "3       0\n",
       "4       0\n",
       "       ..\n",
       "4341    0\n",
       "4342    0\n",
       "4343    0\n",
       "4344    0\n",
       "4345    0\n",
       "Name: Category, Length: 4346, dtype: int64"
      ]
     },
     "execution_count": 16,
     "metadata": {},
     "output_type": "execute_result"
    }
   ],
   "source": [
    "y_train"
   ]
  },
  {
   "cell_type": "code",
   "execution_count": 17,
   "metadata": {
    "execution": {
     "iopub.execute_input": "2022-03-20T09:05:17.062130Z",
     "iopub.status.busy": "2022-03-20T09:05:17.061548Z",
     "iopub.status.idle": "2022-03-20T09:05:20.179676Z",
     "shell.execute_reply": "2022-03-20T09:05:20.178674Z",
     "shell.execute_reply.started": "2022-03-20T09:05:17.062082Z"
    }
   },
   "outputs": [
    {
     "data": {
      "text/plain": [
       "((4346,), (4346, 3))"
      ]
     },
     "execution_count": 17,
     "metadata": {},
     "output_type": "execute_result"
    }
   ],
   "source": [
    "# collect the features 'x' and stack them into a matrix 'X'\n",
    "Xf = np.zeros((len(X_train), 3))\n",
    "for i, row in X_train.items():\n",
    "    Xf[i, :]= extract_features(row, freqs)\n",
    "\n",
    "# training labels corresponding to X\n",
    "Yf = y_train\n",
    "Yf.shape, Xf.shape"
   ]
  },
  {
   "cell_type": "code",
   "execution_count": 18,
   "metadata": {
    "execution": {
     "iopub.execute_input": "2022-03-20T09:36:52.008744Z",
     "iopub.status.busy": "2022-03-20T09:36:52.008487Z",
     "iopub.status.idle": "2022-03-20T09:36:52.015536Z",
     "shell.execute_reply": "2022-03-20T09:36:52.014913Z",
     "shell.execute_reply.started": "2022-03-20T09:36:52.008717Z"
    }
   },
   "outputs": [
    {
     "data": {
      "text/plain": [
       "array([[1.000e+00, 1.000e+01, 1.155e+03],\n",
       "       [1.000e+00, 4.700e+01, 1.080e+02],\n",
       "       [1.000e+00, 3.160e+02, 1.370e+02],\n",
       "       ...,\n",
       "       [1.000e+00, 4.800e+01, 2.310e+03],\n",
       "       [1.000e+00, 0.000e+00, 6.500e+01],\n",
       "       [1.000e+00, 1.900e+01, 1.620e+02]])"
      ]
     },
     "execution_count": 18,
     "metadata": {},
     "output_type": "execute_result"
    }
   ],
   "source": [
    "Xf"
   ]
  },
  {
   "cell_type": "code",
   "execution_count": 19,
   "metadata": {
    "execution": {
     "iopub.execute_input": "2022-03-20T09:13:34.260463Z",
     "iopub.status.busy": "2022-03-20T09:13:34.259400Z",
     "iopub.status.idle": "2022-03-20T09:13:34.267267Z",
     "shell.execute_reply": "2022-03-20T09:13:34.266491Z",
     "shell.execute_reply.started": "2022-03-20T09:13:34.260413Z"
    }
   },
   "outputs": [
    {
     "data": {
      "text/plain": [
       "(4346, 1)"
      ]
     },
     "execution_count": 19,
     "metadata": {},
     "output_type": "execute_result"
    }
   ],
   "source": [
    "Yf = Yf.values.reshape(-1,1)\n",
    "Yf.shape"
   ]
  },
  {
   "cell_type": "code",
   "execution_count": 20,
   "metadata": {
    "execution": {
     "iopub.execute_input": "2022-03-20T09:15:40.940855Z",
     "iopub.status.busy": "2022-03-20T09:15:40.940024Z",
     "iopub.status.idle": "2022-03-20T09:15:41.583888Z",
     "shell.execute_reply": "2022-03-20T09:15:41.582883Z",
     "shell.execute_reply.started": "2022-03-20T09:15:40.940805Z"
    }
   },
   "outputs": [
    {
     "name": "stdout",
     "output_type": "stream",
     "text": [
      "The cost after training is 0.24778444.\n",
      "The resulting vector of weights is [-0.00150775, 0.01396928, -0.00764217]\n"
     ]
    }
   ],
   "source": [
    "# Apply gradient descent\n",
    "J, theta = gradientDescent(Xf, Yf, np.zeros((3, 1)), 1e-5, 1500)\n",
    "print(f\"The cost after training is {J:.8f}.\")\n",
    "print(f\"The resulting vector of weights is {[round(t, 8) for t in np.squeeze(theta)]}\")"
   ]
  },
  {
   "cell_type": "code",
   "execution_count": 21,
   "metadata": {
    "execution": {
     "iopub.execute_input": "2022-03-20T09:16:12.069748Z",
     "iopub.status.busy": "2022-03-20T09:16:12.069449Z",
     "iopub.status.idle": "2022-03-20T09:16:12.076872Z",
     "shell.execute_reply": "2022-03-20T09:16:12.075553Z",
     "shell.execute_reply.started": "2022-03-20T09:16:12.069718Z"
    }
   },
   "outputs": [],
   "source": [
    "# UNQ_C4 (UNIQUE CELL IDENTIFIER, DO NOT EDIT)\n",
    "def predict_tweet(tweet, freqs, theta):\n",
    "    '''\n",
    "    Input: \n",
    "        tweet: a string\n",
    "        freqs: a dictionary corresponding to the frequencies of each tuple (word, label)\n",
    "        theta: (3,1) vector of weights\n",
    "    Output: \n",
    "        y_pred: the probability of a tweet being positive or negative\n",
    "    '''\n",
    "    ### START CODE HERE (REPLACE INSTANCES OF 'None' with your code) ###\n",
    "    \n",
    "    # extract the features of the tweet and store it into x\n",
    "    x = extract_features(tweet,freqs)\n",
    "    \n",
    "    # make the prediction using x and theta\n",
    "    y_pred = sigmoid(np.dot(x,theta))\n",
    "    \n",
    "    ### END CODE HERE ###\n",
    "    \n",
    "    return y_pred"
   ]
  },
  {
   "cell_type": "code",
   "execution_count": 22,
   "metadata": {
    "execution": {
     "iopub.execute_input": "2022-03-20T09:16:56.576214Z",
     "iopub.status.busy": "2022-03-20T09:16:56.575887Z",
     "iopub.status.idle": "2022-03-20T09:16:56.587788Z",
     "shell.execute_reply": "2022-03-20T09:16:56.586897Z",
     "shell.execute_reply.started": "2022-03-20T09:16:56.576150Z"
    }
   },
   "outputs": [],
   "source": [
    "def test_logistic_regression(test_x, test_y, freqs, theta):\n",
    "    \"\"\"\n",
    "    Input: \n",
    "        test_x: a list of tweets\n",
    "        test_y: (m, 1) vector with the corresponding labels for the list of tweets\n",
    "        freqs: a dictionary with the frequency of each pair (or tuple)\n",
    "        theta: weight vector of dimension (3, 1)\n",
    "    Output: \n",
    "        accuracy: (# of tweets classified correctly) / (total # of tweets)\n",
    "    \"\"\"\n",
    "    \n",
    "    ### START CODE HERE (REPLACE INSTANCES OF 'None' with your code) ###\n",
    "    \n",
    "    # the list for storing predictions\n",
    "    y_hat = []\n",
    "    \n",
    "    for tweet in test_x:\n",
    "        # get the label prediction for the tweet\n",
    "        y_pred = predict_tweet(tweet, freqs, theta)\n",
    "        \n",
    "        if y_pred > 0.5:\n",
    "            # append 1.0 to the list\n",
    "            y_hat.append(1)\n",
    "        else:\n",
    "            # append 0 to the list\n",
    "            y_hat.append(0)\n",
    "\n",
    "    # With the above implementation, y_hat is a list, but test_y is (m,1) array\n",
    "    # convert both to one-dimensional arrays in order to compare them using the '==' operator\n",
    "    accuracy = (y_hat==np.squeeze(test_y)).sum()/len(test_x)\n",
    "\n",
    "    ### END CODE HERE ###\n",
    "    \n",
    "    return accuracy"
   ]
  },
  {
   "cell_type": "code",
   "execution_count": 23,
   "metadata": {
    "execution": {
     "iopub.execute_input": "2022-03-20T09:17:57.812300Z",
     "iopub.status.busy": "2022-03-20T09:17:57.811739Z",
     "iopub.status.idle": "2022-03-20T09:17:58.744398Z",
     "shell.execute_reply": "2022-03-20T09:17:58.743486Z",
     "shell.execute_reply.started": "2022-03-20T09:17:57.812252Z"
    }
   },
   "outputs": [
    {
     "name": "stdout",
     "output_type": "stream",
     "text": [
      "Logistic regression model's accuracy = 0.9445\n"
     ]
    }
   ],
   "source": [
    "tmp_accuracy = test_logistic_regression(X_test, y_test, freqs, theta)\n",
    "print(f\"Logistic regression model's accuracy = {tmp_accuracy:.4f}\")"
   ]
  },
  {
   "cell_type": "code",
   "execution_count": 24,
   "metadata": {
    "execution": {
     "iopub.execute_input": "2022-03-20T09:23:57.563015Z",
     "iopub.status.busy": "2022-03-20T09:23:57.562702Z",
     "iopub.status.idle": "2022-03-20T09:23:58.714729Z",
     "shell.execute_reply": "2022-03-20T09:23:58.713596Z",
     "shell.execute_reply.started": "2022-03-20T09:23:57.562978Z"
    }
   },
   "outputs": [
    {
     "name": "stdout",
     "output_type": "stream",
     "text": [
      "Label Predicted Tweet\n",
      "THE TWEET IS: Sir, i am waiting for your call.\n",
      "THE PROCESSED TWEET IS: ['sir', 'wait', 'call']\n",
      "0\t0.85123873\tb'sir wait call'\n",
      "THE TWEET IS: Hey now am free you can call me.\n",
      "THE PROCESSED TWEET IS: ['hey', 'free', 'call']\n",
      "0\t0.98166166\tb'hey free call'\n",
      "THE TWEET IS: Customer place i will call you\n",
      "THE PROCESSED TWEET IS: ['custom', 'place', 'call']\n",
      "0\t0.92956659\tb'custom place call'\n",
      "THE TWEET IS: Reminder: You have not downloaded the content you have already paid for. Goto http://doit. mymoby. tv/ to collect your content.\n",
      "THE PROCESSED TWEET IS: ['remind', 'download', 'content', 'alreadi', 'paid', 'goto']\n",
      "1\t0.40044992\tb'remind download content alreadi paid goto'\n",
      "THE TWEET IS: Even if he my friend he is a priest call him now\n",
      "THE PROCESSED TWEET IS: ['even', 'friend', 'priest', 'call']\n",
      "0\t0.83540888\tb'even friend priest call'\n",
      "THE TWEET IS: NEFT Transaction with reference number  &lt;#&gt;  for Rs. &lt;DECIMAL&gt;  has been credited to the beneficiary account on  &lt;#&gt;  at  &lt;TIME&gt; : &lt;#&gt;\n",
      "THE PROCESSED TWEET IS: ['neft', 'transact', 'refer', 'number', 'rs', '<decimal>', 'credit', 'beneficiari', 'account', '<time>']\n",
      "0\t0.53649076\tb'neft transact refer number rs <decimal> credit beneficiari account <time>'\n",
      "THE TWEET IS: Your next amazing xxx PICSFREE1 video will be sent to you enjoy! If one vid is not enough for 2day text back the keyword PICSFREE1 to get the next video.\n",
      "THE PROCESSED TWEET IS: ['next', 'amaz', 'xxx', 'picsfre', '1', 'video', 'sent', 'enjoy', 'one', 'vid', 'enough', '2day', 'text', 'back', 'keyword', 'picsfre', '1', 'get', 'next', 'video']\n",
      "1\t0.20138998\tb'next amaz xxx picsfre 1 video sent enjoy one vid enough 2day text back keyword picsfre 1 get next video'\n",
      "THE TWEET IS: Cool, text me when you head out\n",
      "THE PROCESSED TWEET IS: ['cool', 'text', 'head']\n",
      "0\t0.64568772\tb'cool text head'\n",
      "THE TWEET IS: Babe: U want me dont u baby! Im nasty and have a thing 4 filthyguys. Fancy a rude time with a sexy bitch. How about we go slo n hard! Txt XXX SLO(4msgs)\n",
      "THE PROCESSED TWEET IS: ['babe', 'u', 'want', 'dont', 'u', 'babi', 'im', 'nasti', 'thing', '4', 'filthyguy', 'fanci', 'rude', 'time', 'sexi', 'bitch', 'go', 'slo', 'n', 'hard', 'txt', 'xxx', 'slo', '4msg']\n",
      "1\t0.00000088\tb'babe u want dont u babi im nasti thing 4 filthyguy fanci rude time sexi bitch go slo n hard txt xxx slo 4msg'\n",
      "THE TWEET IS: Yup next stop.\n",
      "THE PROCESSED TWEET IS: ['yup', 'next', 'stop']\n",
      "0\t0.65473345\tb'yup next stop'\n",
      "THE TWEET IS: I dont thnk its a wrong calling between us\n",
      "THE PROCESSED TWEET IS: ['dont', 'thnk', 'wrong', 'call', 'us']\n",
      "0\t0.79280957\tb'dont thnk wrong call us'\n",
      "THE TWEET IS: Its worse if if uses half way then stops. Its better for him to complete it.\n",
      "THE PROCESSED TWEET IS: ['wors', 'use', 'half', 'way', 'stop', 'better', 'complet']\n",
      "0\t0.50193615\tb'wors use half way stop better complet'\n",
      "THE TWEET IS: Dear, will call Tmorrow.pls accomodate.\n",
      "THE PROCESSED TWEET IS: ['dear', 'call', 'tmorrow.pl', 'accomod']\n",
      "0\t0.86843243\tb'dear call tmorrow.pl accomod'\n",
      "THE TWEET IS: Hello darling how are you today? I would love to have a chat, why dont you tell me what you look like and what you are in to sexy?\n",
      "THE PROCESSED TWEET IS: ['hello', 'darl', 'today', 'would', 'love', 'chat', 'dont', 'tell', 'look', 'like', 'sexi']\n",
      "1\t0.00709893\tb'hello darl today would love chat dont tell look like sexi'\n",
      "THE TWEET IS: Re your call; You didn't see my facebook huh?\n",
      "THE PROCESSED TWEET IS: ['call', 'see', 'facebook', 'huh']\n",
      "0\t0.82167523\tb'call see facebook huh'\n",
      "THE TWEET IS: Do you realize that in about 40 years, we'll have thousands of old ladies running around with tattoos?\n",
      "THE PROCESSED TWEET IS: ['realiz', '40', 'year', \"we'll\", 'thousand', 'old', 'ladi', 'run', 'around', 'tattoo']\n",
      "1\t0.27154896\tb\"realiz 40 year we'll thousand old ladi run around tattoo\"\n",
      "THE TWEET IS: Want 2 get laid tonight? Want real Dogging locations sent direct 2 ur mob? Join the UK's largest Dogging Network bt Txting GRAVEL to 69888! Nt. ec2a. 31p.msg@150p\n",
      "THE PROCESSED TWEET IS: ['want', '2', 'get', 'laid', 'tonight', 'want', 'real', 'dog', 'locat', 'sent', 'direct', '2', 'ur', 'mob', 'join', \"uk'\", 'largest', 'dog', 'network', 'bt', 'txting', 'gravel', '69888', 'nt', 'ec2a', '31p', 'msg', '@150p']\n",
      "1\t0.10996853\tb\"want 2 get laid tonight want real dog locat sent direct 2 ur mob join uk' largest dog network bt txting gravel 69888 nt ec2a 31p msg @150p\"\n",
      "THE TWEET IS: This phone has the weirdest auto correct.\n",
      "THE PROCESSED TWEET IS: ['phone', 'weirdest', 'auto', 'correct']\n",
      "0\t0.52834974\tb'phone weirdest auto correct'\n",
      "THE TWEET IS: Bloomberg -Message center +447797706009 Why wait? Apply for your future http://careers. bloomberg.com\n",
      "THE PROCESSED TWEET IS: ['bloomberg', 'messag', 'center', '4477977060', '09', 'wait', 'appli', 'futur']\n",
      "1\t0.47308097\tb'bloomberg messag center 4477977060 09 wait appli futur'\n",
      "THE TWEET IS: U 447801259231 have a secret admirer who is looking 2 make contact with U-find out who they R*reveal who thinks UR so special-call on 09058094597\n",
      "THE PROCESSED TWEET IS: ['u', '4478012592', '31', 'secret', 'admir', 'look', '2', 'make', 'contact', 'u-find', 'r', 'reveal', 'think', 'ur', 'special-cal', '09058094597']\n",
      "1\t0.00427954\tb'u 4478012592 31 secret admir look 2 make contact u-find r reveal think ur special-cal 09058094597'\n",
      "THE TWEET IS: Funny fact Nobody teaches volcanoes 2 erupt, tsunamis 2 arise, hurricanes 2 sway aroundn no 1 teaches hw 2 choose a wife Natural disasters just happens\n",
      "THE PROCESSED TWEET IS: ['funni', 'fact', 'nobodi', 'teach', 'volcano', '2', 'erupt', 'tsunami', '2', 'aris', 'hurrican', '2', 'sway', 'aroundn', '1', 'teach', 'hw', '2', 'choos', 'wife', 'natur', 'disast', 'happen']\n",
      "0\t0.56282356\tb'funni fact nobodi teach volcano 2 erupt tsunami 2 aris hurrican 2 sway aroundn 1 teach hw 2 choos wife natur disast happen'\n",
      "THE TWEET IS: My planning usually stops at \"find hella weed, smoke hella weed\"\n",
      "THE PROCESSED TWEET IS: ['plan', 'usual', 'stop', 'find', 'hella', 'weed', 'smoke', 'hella', 'weed']\n",
      "0\t0.57127534\tb'plan usual stop find hella weed smoke hella weed'\n",
      "THE TWEET IS: The new deus ex game comin early next yr\n",
      "THE PROCESSED TWEET IS: ['new', 'deu', 'ex', 'game', 'comin', 'earli', 'next', 'yr']\n",
      "0\t0.59452600\tb'new deu ex game comin earli next yr'\n",
      "THE TWEET IS: tddnewsletter@emc1.co.uk (More games from TheDailyDraw) Dear Helen, Dozens of Free Games - with great prizesWith..\n",
      "THE PROCESSED TWEET IS: ['tddnewsletter@emc1.co.uk', 'game', 'thedailydraw', 'dear', 'helen', 'dozen', 'free', 'game', 'great', 'prizeswith', '..']\n",
      "1\t0.08989978\tb'tddnewsletter@emc1.co.uk game thedailydraw dear helen dozen free game great prizeswith ..'\n",
      "THE TWEET IS: Rofl betta invest in some  anti aging products\n",
      "THE PROCESSED TWEET IS: ['rofl', 'betta', 'invest', 'anti', 'age', 'product']\n",
      "0\t0.54484035\tb'rofl betta invest anti age product'\n",
      "THE TWEET IS: URGENT. Important information for 02 user. Today is your lucky day! 2 find out why , log onto http://www.urawinner.com there is a fantastic surprise awaiting you !\n",
      "THE PROCESSED TWEET IS: ['urgent', 'import', 'inform', '02', 'user', 'today', 'lucki', 'day', '2', 'find', 'log', 'onto']\n",
      "1\t0.36154315\tb'urgent import inform 02 user today lucki day 2 find log onto'\n",
      "THE TWEET IS: U have a secret admirer who is looking 2 make contact with U-find out who they R*reveal who thinks UR so special-call on 09058094565\n",
      "THE PROCESSED TWEET IS: ['u', 'secret', 'admir', 'look', '2', 'make', 'contact', 'u-find', 'r', 'reveal', 'think', 'ur', 'special-cal', '09058094565']\n",
      "1\t0.00410462\tb'u secret admir look 2 make contact u-find r reveal think ur special-cal 09058094565'\n",
      "THE TWEET IS: tells u 2 call 09066358152 to claim £5000 prize. U have 2 enter all ur mobile & personal details @ the prompts. Careful!\n",
      "THE PROCESSED TWEET IS: ['tell', 'u', '2', 'call', '09066358152', 'claim', '£', '5000', 'prize', 'u', '2', 'enter', 'ur', 'mobil', 'person', 'detail', 'prompt', 'care']\n",
      "1\t0.44194718\tb'tell u 2 call 09066358152 claim  5000 prize u 2 enter ur mobil person detail prompt care'\n",
      "THE TWEET IS: You only hate me. You can call any but you didnt accept even a single call of mine. Or even you messaged\n",
      "THE PROCESSED TWEET IS: ['hate', 'call', 'didnt', 'accept', 'even', 'singl', 'call', 'mine', 'even', 'messag']\n",
      "0\t0.97670955\tb'hate call didnt accept even singl call mine even messag'\n",
      "THE TWEET IS: Will u meet ur dream partner soon? Is ur career off 2 a flyng start? 2 find out free, txt HORO followed by ur star sign, e. g. HORO ARIES\n",
      "THE PROCESSED TWEET IS: ['u', 'meet', 'ur', 'dream', 'partner', 'soon', 'ur', 'career', '2', 'flyng', 'start', '2', 'find', 'free', 'txt', 'horo', 'follow', 'ur', 'star', 'sign', 'e', 'g', 'horo', 'ari']\n",
      "1\t0.12856695\tb'u meet ur dream partner soon ur career 2 flyng start 2 find free txt horo follow ur star sign e g horo ari'\n",
      "THE TWEET IS: U have a Secret Admirer who is looking 2 make contact with U-find out who they R*reveal who thinks UR so special-call on 09065171142-stopsms-08718727870150ppm\n",
      "THE PROCESSED TWEET IS: ['u', 'secret', 'admir', 'look', '2', 'make', 'contact', 'u-find', 'r', 'reveal', 'think', 'ur', 'special-cal', '09065171142', 'stopsm', '08718727870', '150ppm']\n",
      "1\t0.00622802\tb'u secret admir look 2 make contact u-find r reveal think ur special-cal 09065171142 stopsm 08718727870 150ppm'\n",
      "THE TWEET IS: A link to your picture has been sent. You can also use http://alto18.co.uk/wave/wave.asp?o=44345\n",
      "THE PROCESSED TWEET IS: ['link', 'pictur', 'sent', 'also', 'use']\n",
      "1\t0.29136893\tb'link pictur sent also use'\n",
      "THE TWEET IS: 22 days to kick off! For Euro2004 U will be kept up to date with the latest news and results daily. To be removed send GET TXT STOP to 83222\n",
      "THE PROCESSED TWEET IS: ['22', 'day', 'kick', 'euro', '2004', 'u', 'kept', 'date', 'latest', 'news', 'result', 'daili', 'remov', 'send', 'get', 'txt', 'stop', '83222']\n",
      "1\t0.05252701\tb'22 day kick euro 2004 u kept date latest news result daili remov send get txt stop 83222'\n",
      "THE TWEET IS: Bloomberg -Message center +447797706009 Why wait? Apply for your future http://careers. bloomberg.com\n",
      "THE PROCESSED TWEET IS: ['bloomberg', 'messag', 'center', '4477977060', '09', 'wait', 'appli', 'futur']\n",
      "1\t0.47308097\tb'bloomberg messag center 4477977060 09 wait appli futur'\n",
      "THE TWEET IS: Talk sexy!! Make new friends or fall in love in the worlds most discreet text dating service. Just text VIP to 83110 and see who you could meet.\n",
      "THE PROCESSED TWEET IS: ['talk', 'sexi', 'make', 'new', 'friend', 'fall', 'love', 'world', 'discreet', 'text', 'date', 'servic', 'text', 'vip', '83110', 'see', 'could', 'meet']\n",
      "1\t0.20670096\tb'talk sexi make new friend fall love world discreet text date servic text vip 83110 see could meet'\n",
      "THE TWEET IS: You call him and tell now infront of them. Call him now.\n",
      "THE PROCESSED TWEET IS: ['call', 'tell', 'infront', 'call']\n",
      "0\t0.98272703\tb'call tell infront call'\n",
      "THE TWEET IS: URGENT! This is the 2nd attempt to contact U!U have WON £1000CALL 09071512432 b4 300603t&csBCM4235WC1N3XX.callcost150ppmmobilesvary. max£7. 50\n",
      "THE PROCESSED TWEET IS: ['urgent', '2nd', 'attempt', 'contact', 'u', 'u', '£', '1000call', '09071512432', 'b4', '300603t', 'csbcm', '4235wc1n3xx', 'callcost', '150ppmmobilesvari', 'max', '£', '7', '50']\n",
      "1\t0.39446761\tb'urgent 2nd attempt contact u u  1000call 09071512432 b4 300603t csbcm 4235wc1n3xx callcost 150ppmmobilesvari max  7 50'\n",
      "THE TWEET IS: Text her. If she doesnt reply let me know so i can have her log in\n",
      "THE PROCESSED TWEET IS: ['text', 'doesnt', 'repli', 'let', 'know', 'log']\n",
      "0\t0.55937356\tb'text doesnt repli let know log'\n",
      "THE TWEET IS: Dear U've been invited to XCHAT. This is our final attempt to contact u! Txt CHAT to 86688\n",
      "THE PROCESSED TWEET IS: ['dear', \"u'v\", 'invit', 'xchat', 'final', 'attempt', 'contact', 'u', 'txt', 'chat', '86688']\n",
      "1\t0.14602313\tb\"dear u'v invit xchat final attempt contact u txt chat 86688\"\n",
      "THE TWEET IS: Sorry I missed your call let's talk when you have the time. I'm on 07090201529\n",
      "THE PROCESSED TWEET IS: ['sorri', 'miss', 'call', \"let'\", 'talk', 'time', \"i'm\", '07090201529']\n",
      "1\t0.05445670\tb\"sorri miss call let' talk time i'm 07090201529\"\n",
      "THE TWEET IS: I;m reaching in another 2 stops.\n",
      "THE PROCESSED TWEET IS: ['reach', 'anoth', '2', 'stop']\n",
      "0\t0.70173560\tb'reach anoth 2 stop'\n",
      "THE TWEET IS: HCL chennai requires FRESHERS for voice process.Excellent english needed.Salary upto  &lt;#&gt; .Call Ms.Suman  &lt;#&gt;  for Telephonic interview -via Indyarocks.com\n",
      "THE PROCESSED TWEET IS: ['hcl', 'chennai', 'requir', 'fresher', 'voic', 'process.excel', 'english', 'needed.salari', 'upto', 'call', 'ms.suman', 'telephon', 'interview', 'via', 'indyarocks.com']\n",
      "0\t0.89612518\tb'hcl chennai requir fresher voic process.excel english needed.salari upto call ms.suman telephon interview via indyarocks.com'\n",
      "THE TWEET IS: Hasn't that been the pattern recently crap weekends?\n",
      "THE PROCESSED TWEET IS: ['pattern', 'recent', 'crap', 'weekend']\n",
      "0\t0.50457290\tb'pattern recent crap weekend'\n",
      "THE TWEET IS: No. She's currently in scotland for that.\n",
      "THE PROCESSED TWEET IS: ['current', 'scotland']\n",
      "0\t0.52655032\tb'current scotland'\n",
      "THE TWEET IS: Burger King - Wanna play footy at a top stadium? Get 2 Burger King before 1st Sept and go Large or Super with Coca-Cola and walk out a winner\n",
      "THE PROCESSED TWEET IS: ['burger', 'king', 'wanna', 'play', 'footi', 'top', 'stadium', 'get', '2', 'burger', 'king', '1st', 'sept', 'go', 'larg', 'super', 'coca-cola', 'walk', 'winner']\n",
      "1\t0.04970932\tb'burger king wanna play footi top stadium get 2 burger king 1st sept go larg super coca-cola walk winner'\n",
      "THE TWEET IS: Good Morning plz call me sir\n",
      "THE PROCESSED TWEET IS: ['good', 'morn', 'plz', 'call', 'sir']\n",
      "0\t0.57385497\tb'good morn plz call sir'\n",
      "THE TWEET IS: Call me da, i am waiting for your call.\n",
      "THE PROCESSED TWEET IS: ['call', 'da', 'wait', 'call']\n",
      "0\t0.96854340\tb'call da wait call'\n",
      "THE TWEET IS: How is your schedule next week? I am out of town this weekend.\n",
      "THE PROCESSED TWEET IS: ['schedul', 'next', 'week', 'town', 'weekend']\n",
      "0\t0.51093528\tb'schedul next week town weekend'\n",
      "THE TWEET IS: We live in the next  &lt;#&gt; mins\n",
      "THE PROCESSED TWEET IS: ['live', 'next', 'min']\n",
      "0\t0.69415710\tb'live next min'\n",
      "THE TWEET IS: It should take about  &lt;#&gt;  min\n",
      "THE PROCESSED TWEET IS: ['take', 'min']\n",
      "0\t0.52711897\tb'take min'\n",
      "THE TWEET IS: important information 4 orange user 0789xxxxxxx. today is your lucky day!2find out why log onto http://www.urawinner.com THERE'S A FANTASTIC SURPRISE AWAITING YOU!\n",
      "THE PROCESSED TWEET IS: ['import', 'inform', '4', 'orang', 'user', '0789xxx', 'today', 'lucki', 'day', '2find', 'log', 'onto']\n",
      "1\t0.33629931\tb'import inform 4 orang user 0789xxx today lucki day 2find log onto'\n",
      "THE TWEET IS: Glad to see your reply.\n",
      "THE PROCESSED TWEET IS: ['glad', 'see', 'repli']\n",
      "0\t0.57495396\tb'glad see repli'\n",
      "THE TWEET IS: I dont thnk its a wrong calling between us\n",
      "THE PROCESSED TWEET IS: ['dont', 'thnk', 'wrong', 'call', 'us']\n",
      "0\t0.79280957\tb'dont thnk wrong call us'\n",
      "THE TWEET IS: Pls call me da. What happen.\n",
      "THE PROCESSED TWEET IS: ['pl', 'call', 'da', 'happen']\n",
      "0\t0.62579240\tb'pl call da happen'\n",
      "THE TWEET IS: I don't know u and u don't know me. Send CHAT to 86688 now and let's find each other! Only 150p/Msg rcvd. HG/Suite342/2Lands/Row/W1J6HL LDN. 18 years or over.\n",
      "THE PROCESSED TWEET IS: ['know', 'u', 'u', 'know', 'send', 'chat', '86688', \"let'\", 'find', '150p', 'msg', 'rcvd', 'hg', 'suit', '342/2', 'land', 'row', 'w1j6hl', 'ldn', '18', 'year']\n",
      "1\t0.00043994\tb\"know u u know send chat 86688 let' find 150p msg rcvd hg suit 342/2 land row w1j6hl ldn 18 year\"\n",
      "THE TWEET IS: O i played smash bros  &lt;#&gt;  religiously.\n",
      "THE PROCESSED TWEET IS: ['play', 'smash', 'bro', 'religi']\n",
      "0\t0.50200494\tb'play smash bro religi'\n",
      "THE TWEET IS: As one of our registered subscribers u can enter the draw 4 a 100 G.B. gift voucher by replying with ENTER. To unsubscribe text STOP\n",
      "THE PROCESSED TWEET IS: ['one', 'regist', 'subscrib', 'u', 'enter', 'draw', '4', '100', 'g', 'b', 'gift', 'voucher', 'repli', 'enter', 'unsubscrib', 'text', 'stop']\n",
      "1\t0.39165689\tb'one regist subscrib u enter draw 4 100 g b gift voucher repli enter unsubscrib text stop'\n",
      "THE TWEET IS: Customer place i will call you.\n",
      "THE PROCESSED TWEET IS: ['custom', 'place', 'call']\n",
      "0\t0.92956659\tb'custom place call'\n",
      "THE TWEET IS: Apo all other are mokka players only\n",
      "THE PROCESSED TWEET IS: ['apo', 'mokka', 'player']\n",
      "0\t0.52083162\tb'apo mokka player'\n",
      "THE TWEET IS: Any chance you might have had with me evaporated as soon as you violated my privacy by stealing my phone number from your employer's paperwork. Not cool at all. Please do not contact me again or I will report you to your supervisor.\n",
      "THE PROCESSED TWEET IS: ['chanc', 'might', 'evapor', 'soon', 'violat', 'privaci', 'steal', 'phone', 'number', \"employer'\", 'paperwork', 'cool', 'pleas', 'contact', 'report', 'supervisor']\n",
      "0\t0.55564609\tb\"chanc might evapor soon violat privaci steal phone number employer' paperwork cool pleas contact report supervisor\"\n",
      "THE TWEET IS: Dear Voucher Holder, To claim this weeks offer, at you PC please go to http://www.e-tlp.co.uk/expressoffer Ts&Cs apply. To stop texts, txt STOP to 80062\n",
      "THE PROCESSED TWEET IS: ['dear', 'voucher', 'holder', 'claim', 'week', 'offer', 'pc', 'pleas', 'go']\n",
      "1\t0.44938314\tb'dear voucher holder claim week offer pc pleas go'\n",
      "THE TWEET IS: URGENT, IMPORTANT INFORMATION FOR O2 USER. TODAY IS YOUR LUCKY DAY! 2 FIND OUT WHY LOG ONTO HTTP://WWW.URAWINNER.COM THERE IS A FANTASTIC SURPRISE AWAITING FOR YOU\n",
      "THE PROCESSED TWEET IS: ['urgent', 'import', 'inform', 'o2', 'user', 'today', 'lucki', 'day', '2', 'find', 'log', 'onto', 'http://www.urawinner.com', 'fantast', 'surpris', 'await']\n",
      "1\t0.41417620\tb'urgent import inform o2 user today lucki day 2 find log onto http://www.urawinner.com fantast surpris await'\n",
      "THE TWEET IS: No! But we found a diff farm shop to buy some cheese. On way back now, can i call in?\n",
      "THE PROCESSED TWEET IS: ['found', 'diff', 'farm', 'shop', 'buy', 'chees', 'way', 'back', 'call']\n",
      "0\t0.69181741\tb'found diff farm shop buy chees way back call'\n",
      "THE TWEET IS: U have a secret admirer. REVEAL who thinks U R So special. Call 09065174042. To opt out Reply REVEAL STOP. 1.50 per msg recd. Cust care 07821230901\n",
      "THE PROCESSED TWEET IS: ['u', 'secret', 'admir', 'reveal', 'think', 'u', 'r', 'special', 'call', '09065174042', 'opt', 'repli', 'reveal', 'stop', '1.50', 'per', 'msg', 'recd', 'cust', 'care', '07821230901']\n",
      "1\t0.01997429\tb'u secret admir reveal think u r special call 09065174042 opt repli reveal stop 1.50 per msg recd cust care 07821230901'\n",
      "THE TWEET IS: CALL 09090900040 & LISTEN TO EXTREME DIRTY LIVE CHAT GOING ON IN THE OFFICE RIGHT NOW TOTAL PRIVACY NO ONE KNOWS YOUR [sic] LISTENING 60P MIN 24/7MP 0870753331018+\n",
      "THE PROCESSED TWEET IS: ['call', '09090900040', 'listen', 'extrem', 'dirti', 'live', 'chat', 'go', 'offic', 'right', 'total', 'privaci', 'one', 'know', 'sic', 'listen', '60p', 'min', '24/7', 'mp', '08707533310', '18']\n",
      "1\t0.29278253\tb'call 09090900040 listen extrem dirti live chat go offic right total privaci one know sic listen 60p min 24/7 mp 08707533310 18'\n",
      "THE TWEET IS: I am waiting machan. Call me once you free.\n",
      "THE PROCESSED TWEET IS: ['wait', 'machan', 'call', 'free']\n",
      "0\t0.98389364\tb'wait machan call free'\n",
      "THE TWEET IS: NEFT Transaction with reference number  &lt;#&gt;  for Rs. &lt;DECIMAL&gt;  has been credited to the beneficiary account on  &lt;#&gt;  at  &lt;TIME&gt; : &lt;#&gt;\n",
      "THE PROCESSED TWEET IS: ['neft', 'transact', 'refer', 'number', 'rs', '<decimal>', 'credit', 'beneficiari', 'account', '<time>']\n",
      "0\t0.53649076\tb'neft transact refer number rs <decimal> credit beneficiari account <time>'\n",
      "THE TWEET IS: Networking technical support associate.\n",
      "THE PROCESSED TWEET IS: ['network', 'technic', 'support', 'associ']\n",
      "0\t0.55267386\tb'network technic support associ'\n"
     ]
    }
   ],
   "source": [
    "# Some error analysis done for you\n",
    "print('Label Predicted Tweet')\n",
    "for x,y in zip(X_test,y_test):\n",
    "    y_hat = predict_tweet(x, freqs, theta)\n",
    "\n",
    "    if np.abs(y - (y_hat > 0.5)) > 0:\n",
    "        print('THE TWEET IS:', x)\n",
    "        print('THE PROCESSED TWEET IS:', process_tweet(x))\n",
    "        print('%d\\t%0.8f\\t%s' % (y, y_hat, ' '.join(process_tweet(x)).encode('ascii', 'ignore')))"
   ]
  }
 ],
 "metadata": {
  "kernelspec": {
   "display_name": "Python 3",
   "language": "python",
   "name": "python3"
  },
  "language_info": {
   "codemirror_mode": {
    "name": "ipython",
    "version": 3
   },
   "file_extension": ".py",
   "mimetype": "text/x-python",
   "name": "python",
   "nbconvert_exporter": "python",
   "pygments_lexer": "ipython3",
   "version": "3.7.3"
  }
 },
 "nbformat": 4,
 "nbformat_minor": 4
}
